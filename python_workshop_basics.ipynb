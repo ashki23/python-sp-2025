{
  "nbformat": 4,
  "nbformat_minor": 0,
  "metadata": {
    "colab": {
      "provenance": []
    },
    "kernelspec": {
      "name": "python3",
      "display_name": "Python 3"
    },
    "language_info": {
      "name": "python"
    }
  },
  "cells": [
    {
      "cell_type": "markdown",
      "source": [
        "# Python Basics: A Beginner's Guide to Programming"
      ],
      "metadata": {
        "id": "w4S3wYIv50ix"
      }
    },
    {
      "cell_type": "code",
      "source": [
        "# Modify Jupyter Settings to Show All Outputs\n",
        "from IPython.core.interactiveshell import InteractiveShell\n",
        "InteractiveShell.ast_node_interactivity = \"all\"  # \"last_expr\""
      ],
      "metadata": {
        "id": "yycUhZj7Kfpw"
      },
      "execution_count": 1,
      "outputs": []
    },
    {
      "cell_type": "markdown",
      "source": [
        "# 1. Variables\n",
        "\n",
        "The equal sign (`=`) is used to assign a value (object or data) to a variable."
      ],
      "metadata": {
        "id": "NJu-g-Utxzn3"
      }
    },
    {
      "cell_type": "code",
      "source": [
        "spam = 1  # and this is a comment\n",
        "text = \"# This is not a comment because it's inside quotes.\"\n",
        "\n",
        "# We can reuse variables!\n",
        "spam = 'one'\n",
        "\n",
        "# Variables are case-sensetive\n",
        "Spam = \"two\"\n",
        "\n",
        "# The built-in function \"print()\" prints an object's value:\n",
        "print(spam)\n",
        "# 'one'\n",
        "\n",
        "print(Spam)\n",
        "# 'two'\n",
        "\n",
        "# Space, dash and other funny characters are not allowed!\n",
        "# sp-am-1 = 'ohhh'\n",
        "# sp am 2 = 'nooo'\n",
        "sp_am_3 = 'yayy'\n"
      ],
      "metadata": {
        "id": "jUDOL765yFDA",
        "colab": {
          "base_uri": "https://localhost:8080/"
        },
        "outputId": "a243d1e6-c0e6-4740-d2b2-b6e9d941665a"
      },
      "execution_count": 2,
      "outputs": [
        {
          "output_type": "stream",
          "name": "stdout",
          "text": [
            "one\n",
            "two\n"
          ]
        }
      ]
    },
    {
      "cell_type": "markdown",
      "source": [
        "🚀 **Note**: We use `#` to write comments between codes, and sigle `'` or double `\"` quotes to store texts (strings).\n",
        "\n",
        "🔥 **Note**: Python has a set of built-in functions for performing specific tasks. All Python functions use parentheses to receive the required arguments for execution, following the format `function_name(args)`.\n",
        "\n",
        "###📚 **Workbook practice**\n",
        "\n",
        "Create some variables for both number and text objects, add some comments, and print the variables."
      ],
      "metadata": {
        "id": "O5Y6sEudyyTz"
      }
    },
    {
      "cell_type": "markdown",
      "source": [
        "# 2. Data Types\n",
        "\n",
        "## 2.1 Numbers"
      ],
      "metadata": {
        "id": "5ROyQW1QEKzV"
      }
    },
    {
      "cell_type": "code",
      "source": [
        "# Using Python as a Calculator!\n",
        "2 + 2\n",
        "# 4\n",
        "\n",
        "2 * 2\n",
        "# 4\n",
        "\n",
        "17 / 3 # classic division returns a float\n",
        "# 5.666666666666667\n",
        "\n",
        "17 // 3  # floor division discards the fractional part\n",
        "# 5\n",
        "\n",
        "17 % 3  # the % operator returns the remainder of the division\n",
        "# 2\n",
        "\n",
        "5 ** 2  # 5 squared\n",
        "# 25\n",
        "\n",
        "2 ** 7  # 2 to the power of 7\n",
        "# 128\n",
        "\n",
        "# Tip: In interactive mode, the last printed expression is assigned to the variable _\n",
        "#_ * 2\n",
        "# 256\n"
      ],
      "metadata": {
        "colab": {
          "base_uri": "https://localhost:8080/"
        },
        "id": "vsURRPNJyx24",
        "outputId": "77467111-d14b-4ec6-dcd0-ac1be8bcd11c"
      },
      "execution_count": 3,
      "outputs": [
        {
          "output_type": "execute_result",
          "data": {
            "text/plain": [
              "4"
            ]
          },
          "metadata": {},
          "execution_count": 3
        },
        {
          "output_type": "execute_result",
          "data": {
            "text/plain": [
              "4"
            ]
          },
          "metadata": {},
          "execution_count": 3
        },
        {
          "output_type": "execute_result",
          "data": {
            "text/plain": [
              "5.666666666666667"
            ]
          },
          "metadata": {},
          "execution_count": 3
        },
        {
          "output_type": "execute_result",
          "data": {
            "text/plain": [
              "5"
            ]
          },
          "metadata": {},
          "execution_count": 3
        },
        {
          "output_type": "execute_result",
          "data": {
            "text/plain": [
              "2"
            ]
          },
          "metadata": {},
          "execution_count": 3
        },
        {
          "output_type": "execute_result",
          "data": {
            "text/plain": [
              "25"
            ]
          },
          "metadata": {},
          "execution_count": 3
        },
        {
          "output_type": "execute_result",
          "data": {
            "text/plain": [
              "128"
            ]
          },
          "metadata": {},
          "execution_count": 3
        }
      ]
    },
    {
      "cell_type": "code",
      "source": [
        "## Create a variable and assign a number\n",
        "width = 20\n",
        "height = 30 * 2\n",
        "\n",
        "area = width * height\n",
        "area\n",
        "# 1200\n",
        "\n",
        "area/7\n",
        "# 171.428...\n"
      ],
      "metadata": {
        "colab": {
          "base_uri": "https://localhost:8080/"
        },
        "id": "GrHRjpe2Ud9C",
        "outputId": "e25b117e-e591-45bb-c602-94797109689a"
      },
      "execution_count": 4,
      "outputs": [
        {
          "output_type": "execute_result",
          "data": {
            "text/plain": [
              "1200"
            ]
          },
          "metadata": {},
          "execution_count": 4
        },
        {
          "output_type": "execute_result",
          "data": {
            "text/plain": [
              "171.42857142857142"
            ]
          },
          "metadata": {},
          "execution_count": 4
        }
      ]
    },
    {
      "cell_type": "code",
      "source": [
        "# Number types\n",
        "# The built-in function \"type()\" returns the type of an object:\n",
        "type(area)\n",
        "# int\n",
        "\n",
        "type(area/7)\n",
        "# float\n",
        "\n",
        "# The built-in functions \"int()\" and \"floot()\" change the number types:\n",
        "int(3.3)\n",
        "# 3\n",
        "\n",
        "float(3)\n",
        "# 3.0\n",
        "\n",
        "# The built-in function \"round()\" rounds a number to a given precision in decimal digits:\n",
        "round(3.14159265, 2)\n",
        "# 3.14\n",
        "\n",
        "round(3.14159265)\n",
        "# 3\n",
        "\n",
        "# The built-in function \"abs()\" returns the absolute value of a number:\n",
        "abs(-3.4)\n",
        "# 3.4\n"
      ],
      "metadata": {
        "colab": {
          "base_uri": "https://localhost:8080/"
        },
        "id": "cwL-VMsLVKGn",
        "outputId": "3286b48f-0d61-4540-9031-2c3062712c4e"
      },
      "execution_count": 5,
      "outputs": [
        {
          "output_type": "execute_result",
          "data": {
            "text/plain": [
              "int"
            ]
          },
          "metadata": {},
          "execution_count": 5
        },
        {
          "output_type": "execute_result",
          "data": {
            "text/plain": [
              "float"
            ]
          },
          "metadata": {},
          "execution_count": 5
        },
        {
          "output_type": "execute_result",
          "data": {
            "text/plain": [
              "3"
            ]
          },
          "metadata": {},
          "execution_count": 5
        },
        {
          "output_type": "execute_result",
          "data": {
            "text/plain": [
              "3.0"
            ]
          },
          "metadata": {},
          "execution_count": 5
        },
        {
          "output_type": "execute_result",
          "data": {
            "text/plain": [
              "3.14"
            ]
          },
          "metadata": {},
          "execution_count": 5
        },
        {
          "output_type": "execute_result",
          "data": {
            "text/plain": [
              "3"
            ]
          },
          "metadata": {},
          "execution_count": 5
        },
        {
          "output_type": "execute_result",
          "data": {
            "text/plain": [
              "3.4"
            ]
          },
          "metadata": {},
          "execution_count": 5
        }
      ]
    },
    {
      "cell_type": "markdown",
      "source": [
        "In addition to `int` and `float`, Python supports other types of numbers, such as \"Decimal\" (for more precise calculations than float) and \"Fraction\" (eg. `3/4 + 7/8 = 13/8`). Python also has built-in support for complex numbers, and uses the `j` or `J` suffix to indicate the imaginary part (e.g. `3 + 5j`).\n",
        "\n",
        "🚀 **Note**: Numbers are **immutable** (not modifiable), **non-subscriptable** (non-sliceable), and **cannot be concatenated** (glued together). Therefore, there is no method for numbers!\n",
        "\n",
        "###📚 **Workbook practice**\n",
        "\n",
        "Create some variables with some numbers. Do some simple math with the variables: try classic divison, floor division, and find the remainder of the division."
      ],
      "metadata": {
        "id": "AewoET0oWad7"
      }
    },
    {
      "cell_type": "markdown",
      "source": [
        "## 2.2 Text\n",
        "\n",
        "Python can manipulate text (represented by type str, so-called \"strings\") as well as numbers. This includes characters `\"!\"`, words `\"rabbit\"`, names `\"Paris\"`, sentences `\"Got your back.\"`, etc. `\"Yay! :)\"`.\n",
        "\n",
        "They can be enclosed in single quotes (`'...'`) or double quotes (`\"...\"`) with the same result."
      ],
      "metadata": {
        "id": "R1cs0U8hYM-K"
      }
    },
    {
      "cell_type": "code",
      "source": [
        "# Single quotes\n",
        "'spam eggs'\n",
        "\n",
        "# Double quotes\n",
        "\"Paris rabbit got your back :)! Yay!\"\n",
        "\n",
        "# You use this option to pass single or double quotes as text!\n",
        "\"It doesn't break!\"\n"
      ],
      "metadata": {
        "colab": {
          "base_uri": "https://localhost:8080/",
          "height": 92
        },
        "id": "KoANIfoAWaHZ",
        "outputId": "e2208809-d4cf-49b7-c18f-05dfe59c5acc"
      },
      "execution_count": 6,
      "outputs": [
        {
          "output_type": "execute_result",
          "data": {
            "text/plain": [
              "'spam eggs'"
            ],
            "application/vnd.google.colaboratory.intrinsic+json": {
              "type": "string"
            }
          },
          "metadata": {},
          "execution_count": 6
        },
        {
          "output_type": "execute_result",
          "data": {
            "text/plain": [
              "'Paris rabbit got your back :)! Yay!'"
            ],
            "application/vnd.google.colaboratory.intrinsic+json": {
              "type": "string"
            }
          },
          "metadata": {},
          "execution_count": 6
        },
        {
          "output_type": "execute_result",
          "data": {
            "text/plain": [
              "\"It doesn't break!\""
            ],
            "application/vnd.google.colaboratory.intrinsic+json": {
              "type": "string"
            }
          },
          "metadata": {},
          "execution_count": 6
        }
      ]
    },
    {
      "cell_type": "code",
      "source": [
        "# String literals can span multiple lines.\n",
        "# One way is using triple-quotes: \"\"\"...\"\"\" or '''...'''.\n",
        "print('''This is line one\n",
        "and two\n",
        "and more\n",
        "''')\n"
      ],
      "metadata": {
        "colab": {
          "base_uri": "https://localhost:8080/"
        },
        "id": "hvFsG9y1ZBlq",
        "outputId": "044c9f35-b8fb-4e6e-a033-6b4921adf3e2"
      },
      "execution_count": 7,
      "outputs": [
        {
          "output_type": "stream",
          "name": "stdout",
          "text": [
            "This is line one\n",
            "and two\n",
            "and more\n",
            "\n"
          ]
        }
      ]
    },
    {
      "cell_type": "code",
      "source": [
        "## Create a variable and assign a text (string)\n",
        "p = 'Py'\n",
        "c = 'Coding'\n",
        "p\n",
        "c\n",
        "\n",
        "## Text type\n",
        "type(p)\n",
        "# str\n",
        "\n",
        "# Membership testing\n",
        "'cod' in c\n",
        "# False\n",
        "\n",
        "'din' in c\n",
        "# True\n",
        "\n",
        "# The built-in function \"str()\" returns the string object of an object:\n",
        "str(3.14)\n",
        "# '3.14'\n"
      ],
      "metadata": {
        "colab": {
          "base_uri": "https://localhost:8080/",
          "height": 143
        },
        "id": "y5qrUyg9ZHJo",
        "outputId": "aa82ab26-7b06-4b99-e3ae-c6d247e39856"
      },
      "execution_count": 8,
      "outputs": [
        {
          "output_type": "execute_result",
          "data": {
            "text/plain": [
              "'Py'"
            ],
            "application/vnd.google.colaboratory.intrinsic+json": {
              "type": "string"
            }
          },
          "metadata": {},
          "execution_count": 8
        },
        {
          "output_type": "execute_result",
          "data": {
            "text/plain": [
              "'Coding'"
            ],
            "application/vnd.google.colaboratory.intrinsic+json": {
              "type": "string"
            }
          },
          "metadata": {},
          "execution_count": 8
        },
        {
          "output_type": "execute_result",
          "data": {
            "text/plain": [
              "str"
            ]
          },
          "metadata": {},
          "execution_count": 8
        },
        {
          "output_type": "execute_result",
          "data": {
            "text/plain": [
              "False"
            ]
          },
          "metadata": {},
          "execution_count": 8
        },
        {
          "output_type": "execute_result",
          "data": {
            "text/plain": [
              "True"
            ]
          },
          "metadata": {},
          "execution_count": 8
        },
        {
          "output_type": "execute_result",
          "data": {
            "text/plain": [
              "'3.14'"
            ],
            "application/vnd.google.colaboratory.intrinsic+json": {
              "type": "string"
            }
          },
          "metadata": {},
          "execution_count": 8
        }
      ]
    },
    {
      "cell_type": "markdown",
      "source": [
        "🚀 **Note**: Strings are **immutable** (not modifiable), **subscriptable** (sliceable), and **can be concatenated** (glued together). Therefore, there are many predefined methods for strings!"
      ],
      "metadata": {
        "id": "hfQtT4uHZlaE"
      }
    },
    {
      "cell_type": "markdown",
      "source": [
        "**Concatenatable:** If an object is concatenatable, we can combine multiple objects of the same type. For example:"
      ],
      "metadata": {
        "id": "F7lS7aASgsza"
      }
    },
    {
      "cell_type": "code",
      "source": [
        "# Strings can be concatenated\n",
        "\"12\" + \"34\"\n",
        "# '1234'\n",
        "\n",
        "p + 'thon'\n",
        "# 'Python'\n",
        "\n",
        "p * 2\n",
        "# 'PyPy'\n",
        "\n",
        "p + ' ' + c\n",
        "# 'Py Coding'\n",
        "\n",
        "p = p + 'thon' # the short form is: p += 'thon'\n",
        "p\n",
        "#'Python'\n"
      ],
      "metadata": {
        "colab": {
          "base_uri": "https://localhost:8080/",
          "height": 129
        },
        "id": "PHYrlTCwa5rm",
        "outputId": "f25a41e9-15fe-4971-9f48-229492f7ac88"
      },
      "execution_count": 9,
      "outputs": [
        {
          "output_type": "execute_result",
          "data": {
            "text/plain": [
              "'1234'"
            ],
            "application/vnd.google.colaboratory.intrinsic+json": {
              "type": "string"
            }
          },
          "metadata": {},
          "execution_count": 9
        },
        {
          "output_type": "execute_result",
          "data": {
            "text/plain": [
              "'Python'"
            ],
            "application/vnd.google.colaboratory.intrinsic+json": {
              "type": "string"
            }
          },
          "metadata": {},
          "execution_count": 9
        },
        {
          "output_type": "execute_result",
          "data": {
            "text/plain": [
              "'PyPy'"
            ],
            "application/vnd.google.colaboratory.intrinsic+json": {
              "type": "string"
            }
          },
          "metadata": {},
          "execution_count": 9
        },
        {
          "output_type": "execute_result",
          "data": {
            "text/plain": [
              "'Py Coding'"
            ],
            "application/vnd.google.colaboratory.intrinsic+json": {
              "type": "string"
            }
          },
          "metadata": {},
          "execution_count": 9
        },
        {
          "output_type": "execute_result",
          "data": {
            "text/plain": [
              "'Python'"
            ],
            "application/vnd.google.colaboratory.intrinsic+json": {
              "type": "string"
            }
          },
          "metadata": {},
          "execution_count": 9
        }
      ]
    },
    {
      "cell_type": "markdown",
      "source": [
        "**Subscriptable (sliceable or indexable):** If an object is subscriptable, it can be sliced into its smallest components. For text, the smallest components are individual characters. For example:"
      ],
      "metadata": {
        "id": "ZE560ucPgJKM"
      }
    },
    {
      "cell_type": "code",
      "source": [
        "# Strings are indexable\n",
        "p = \"Python\"\n",
        "\n",
        "p[0] # [index]\n",
        "# 'P'\n",
        "\n",
        "p[-1]\n",
        "# 'n'\n",
        "\n",
        "p[0:2] # [from:to]\n",
        "# 'Py'\n",
        "\n",
        "p[:2]\n",
        "# 'Py'\n",
        "\n",
        "p[2:]\n",
        "# 'thon'\n",
        "\n",
        "p[::2] # [from:to:step], default step is 1\n",
        "# 'Pto'\n"
      ],
      "metadata": {
        "colab": {
          "base_uri": "https://localhost:8080/",
          "height": 148
        },
        "id": "lKsu8_ifdo46",
        "outputId": "52fc13c5-39ca-4389-cd3a-01d06b9ccce9"
      },
      "execution_count": 10,
      "outputs": [
        {
          "output_type": "execute_result",
          "data": {
            "text/plain": [
              "'P'"
            ],
            "application/vnd.google.colaboratory.intrinsic+json": {
              "type": "string"
            }
          },
          "metadata": {},
          "execution_count": 10
        },
        {
          "output_type": "execute_result",
          "data": {
            "text/plain": [
              "'n'"
            ],
            "application/vnd.google.colaboratory.intrinsic+json": {
              "type": "string"
            }
          },
          "metadata": {},
          "execution_count": 10
        },
        {
          "output_type": "execute_result",
          "data": {
            "text/plain": [
              "'Py'"
            ],
            "application/vnd.google.colaboratory.intrinsic+json": {
              "type": "string"
            }
          },
          "metadata": {},
          "execution_count": 10
        },
        {
          "output_type": "execute_result",
          "data": {
            "text/plain": [
              "'Py'"
            ],
            "application/vnd.google.colaboratory.intrinsic+json": {
              "type": "string"
            }
          },
          "metadata": {},
          "execution_count": 10
        },
        {
          "output_type": "execute_result",
          "data": {
            "text/plain": [
              "'thon'"
            ],
            "application/vnd.google.colaboratory.intrinsic+json": {
              "type": "string"
            }
          },
          "metadata": {},
          "execution_count": 10
        },
        {
          "output_type": "execute_result",
          "data": {
            "text/plain": [
              "'Pto'"
            ],
            "application/vnd.google.colaboratory.intrinsic+json": {
              "type": "string"
            }
          },
          "metadata": {},
          "execution_count": 10
        }
      ]
    },
    {
      "cell_type": "markdown",
      "source": [
        "🚀 **Note**: Think of 0 as the beginning. Then, 1 is the first position after the beginning, 2 is the second, and so on. Similarly, -1 represents the end, -2 is the second-to-last, and so on.\n",
        "\n",
        "🚀 **Note**: In `[from:to]` indexing, Python includes the `from` index but excludes the `to` index, returning all elements up to but not including `to`."
      ],
      "metadata": {
        "id": "NSLJ7ebxjADG"
      }
    },
    {
      "cell_type": "code",
      "source": [
        "#  +---+---+---+---+---+---+\n",
        "#  | P | y | t | h | o | n |\n",
        "#  +---+---+---+---+---+---+\n",
        "#    0   1   2   3   4   5\n",
        "#   -6  -5  -4  -3  -2  -1\n",
        "\n",
        "# The built-in function \"len()\" returns the length of a string:\n",
        "len(p)\n"
      ],
      "metadata": {
        "id": "iZAbm8U9i-3-",
        "colab": {
          "base_uri": "https://localhost:8080/"
        },
        "outputId": "420a8a99-b6cc-45ad-836f-2f646c377dd2"
      },
      "execution_count": 11,
      "outputs": [
        {
          "output_type": "execute_result",
          "data": {
            "text/plain": [
              "6"
            ]
          },
          "metadata": {},
          "execution_count": 11
        }
      ]
    },
    {
      "cell_type": "markdown",
      "source": [
        "🔥 Strings have many built-in methods. To use methods, add a `.` to the variable (or the object itself) and call the method. For instance:"
      ],
      "metadata": {
        "id": "-_oFb7Y6pVdS"
      }
    },
    {
      "cell_type": "code",
      "source": [
        "# String methods\n",
        "p = \"python\"\n",
        "p.capitalize()\n",
        "p.upper()\n",
        "p.lower()\n",
        "p.index('h')\n",
        "p.find('h')\n",
        "','.join(p)\n",
        "p.split('t')\n",
        "p.replace('P', 'M')\n",
        "p.count('P')\n",
        "p.center(20, '-')\n",
        "\"   Python   \".strip()\n"
      ],
      "metadata": {
        "colab": {
          "base_uri": "https://localhost:8080/",
          "height": 233
        },
        "id": "qbyF9ZkNq5Dr",
        "outputId": "7f789a80-9d61-48ee-c09f-92af9811aeec"
      },
      "execution_count": 12,
      "outputs": [
        {
          "output_type": "execute_result",
          "data": {
            "text/plain": [
              "'Python'"
            ],
            "application/vnd.google.colaboratory.intrinsic+json": {
              "type": "string"
            }
          },
          "metadata": {},
          "execution_count": 12
        },
        {
          "output_type": "execute_result",
          "data": {
            "text/plain": [
              "'PYTHON'"
            ],
            "application/vnd.google.colaboratory.intrinsic+json": {
              "type": "string"
            }
          },
          "metadata": {},
          "execution_count": 12
        },
        {
          "output_type": "execute_result",
          "data": {
            "text/plain": [
              "'python'"
            ],
            "application/vnd.google.colaboratory.intrinsic+json": {
              "type": "string"
            }
          },
          "metadata": {},
          "execution_count": 12
        },
        {
          "output_type": "execute_result",
          "data": {
            "text/plain": [
              "3"
            ]
          },
          "metadata": {},
          "execution_count": 12
        },
        {
          "output_type": "execute_result",
          "data": {
            "text/plain": [
              "3"
            ]
          },
          "metadata": {},
          "execution_count": 12
        },
        {
          "output_type": "execute_result",
          "data": {
            "text/plain": [
              "'p,y,t,h,o,n'"
            ],
            "application/vnd.google.colaboratory.intrinsic+json": {
              "type": "string"
            }
          },
          "metadata": {},
          "execution_count": 12
        },
        {
          "output_type": "execute_result",
          "data": {
            "text/plain": [
              "['py', 'hon']"
            ]
          },
          "metadata": {},
          "execution_count": 12
        },
        {
          "output_type": "execute_result",
          "data": {
            "text/plain": [
              "'python'"
            ],
            "application/vnd.google.colaboratory.intrinsic+json": {
              "type": "string"
            }
          },
          "metadata": {},
          "execution_count": 12
        },
        {
          "output_type": "execute_result",
          "data": {
            "text/plain": [
              "0"
            ]
          },
          "metadata": {},
          "execution_count": 12
        },
        {
          "output_type": "execute_result",
          "data": {
            "text/plain": [
              "'-------python-------'"
            ],
            "application/vnd.google.colaboratory.intrinsic+json": {
              "type": "string"
            }
          },
          "metadata": {},
          "execution_count": 12
        },
        {
          "output_type": "execute_result",
          "data": {
            "text/plain": [
              "'Python'"
            ],
            "application/vnd.google.colaboratory.intrinsic+json": {
              "type": "string"
            }
          },
          "metadata": {},
          "execution_count": 12
        }
      ]
    },
    {
      "cell_type": "markdown",
      "source": [
        "### 📚 **Workbook practice**\n",
        "\n",
        "Run the following codes line by line. What do you notice?\n",
        "\n",
        "```python\n",
        "p = \"Python\"\n",
        "c = \"Coding\"\n",
        "\n",
        "# 1\n",
        "p[6]\n",
        "p[6:]\n",
        "\n",
        "# 2\n",
        "p[::-1]\n",
        "\n",
        "# 3\n",
        "p += c\n",
        "p # ???\n",
        "\n",
        "# 4\n",
        "p = \"Mython\"\n",
        "p[0] = \"P\"\n",
        "p # ???\n",
        "```\n"
      ],
      "metadata": {
        "id": "a081k7k1mfB3"
      }
    },
    {
      "cell_type": "markdown",
      "source": [
        "## 2.3 List\n",
        "Python knows a number of compound data types, used to group together other values. The most versatile is the \"list\", which can be written as a list of comma-separated values (**items**) between square brackets.\n",
        "\n",
        "Lists might contain items of different types, but usually the items all have the same type (**homogeneous**)."
      ],
      "metadata": {
        "id": "wo2MeIZXr1Po"
      }
    },
    {
      "cell_type": "code",
      "source": [
        "squares = [1, 4, 9, 16, 25]\n",
        "squares\n",
        "# [1, 4, 9, 16, 25]\n",
        "\n",
        "type(squares)\n",
        "# list\n",
        "\n",
        "empty = []\n",
        "empty\n",
        "\n",
        "# Membership testing\n",
        "4 in squares\n",
        "# True\n"
      ],
      "metadata": {
        "colab": {
          "base_uri": "https://localhost:8080/"
        },
        "id": "z9M6_tKDr07e",
        "outputId": "36b909b3-4967-45d9-ecfc-6f9f9404e5a9"
      },
      "execution_count": 13,
      "outputs": [
        {
          "output_type": "execute_result",
          "data": {
            "text/plain": [
              "[1, 4, 9, 16, 25]"
            ]
          },
          "metadata": {},
          "execution_count": 13
        },
        {
          "output_type": "execute_result",
          "data": {
            "text/plain": [
              "list"
            ]
          },
          "metadata": {},
          "execution_count": 13
        },
        {
          "output_type": "execute_result",
          "data": {
            "text/plain": [
              "[]"
            ]
          },
          "metadata": {},
          "execution_count": 13
        },
        {
          "output_type": "execute_result",
          "data": {
            "text/plain": [
              "True"
            ]
          },
          "metadata": {},
          "execution_count": 13
        }
      ]
    },
    {
      "cell_type": "markdown",
      "source": [
        "🚀 **Note**: List are **mutable** (modifiable), **subscriptable** (sliceable or indexable), and **can be concatenated** (glued together). Therefore, there are many predefined methods for Lists."
      ],
      "metadata": {
        "id": "4KdPqIp2skFF"
      }
    },
    {
      "cell_type": "code",
      "source": [
        "# Lists are indexable\n",
        "squares\n",
        "# [1, 4, 9, 16, 25]\n",
        "\n",
        "squares[1]\n",
        "# 4\n",
        "\n",
        "squares[-1]\n",
        "# 25\n",
        "\n",
        "squares[2:]\n",
        "# [9, 16, 25]\n"
      ],
      "metadata": {
        "colab": {
          "base_uri": "https://localhost:8080/"
        },
        "id": "7cnCMeX1s9Pk",
        "outputId": "5c551869-0063-47e9-c5cc-53352bd6174a"
      },
      "execution_count": 14,
      "outputs": [
        {
          "output_type": "execute_result",
          "data": {
            "text/plain": [
              "[1, 4, 9, 16, 25]"
            ]
          },
          "metadata": {},
          "execution_count": 14
        },
        {
          "output_type": "execute_result",
          "data": {
            "text/plain": [
              "4"
            ]
          },
          "metadata": {},
          "execution_count": 14
        },
        {
          "output_type": "execute_result",
          "data": {
            "text/plain": [
              "25"
            ]
          },
          "metadata": {},
          "execution_count": 14
        },
        {
          "output_type": "execute_result",
          "data": {
            "text/plain": [
              "[9, 16, 25]"
            ]
          },
          "metadata": {},
          "execution_count": 14
        }
      ]
    },
    {
      "cell_type": "code",
      "source": [
        "# Lists can be concatenated\n",
        "squares + [36, 49, 64, 81, 100]\n",
        "# [1, 4, 9, 16, 25, 36, 49, 64, 81, 100]\n",
        "\n",
        "squares + ['one', 'four', '9', 100, True]\n",
        "# [1, 4, 9, 16, 25, 'one', 'four', '9', 100, True]\n",
        "\n",
        "squares * 2\n",
        "# [1, 4, 9, 16, 25, 1, 4, 9, 16, 25]\n"
      ],
      "metadata": {
        "colab": {
          "base_uri": "https://localhost:8080/"
        },
        "id": "pXzVDAO6t-mz",
        "outputId": "1fd4ac33-c559-4d07-863b-fead988c6d80"
      },
      "execution_count": 15,
      "outputs": [
        {
          "output_type": "execute_result",
          "data": {
            "text/plain": [
              "[1, 4, 9, 16, 25, 36, 49, 64, 81, 100]"
            ]
          },
          "metadata": {},
          "execution_count": 15
        },
        {
          "output_type": "execute_result",
          "data": {
            "text/plain": [
              "[1, 4, 9, 16, 25, 'one', 'four', '9', 100, True]"
            ]
          },
          "metadata": {},
          "execution_count": 15
        },
        {
          "output_type": "execute_result",
          "data": {
            "text/plain": [
              "[1, 4, 9, 16, 25, 1, 4, 9, 16, 25]"
            ]
          },
          "metadata": {},
          "execution_count": 15
        }
      ]
    },
    {
      "cell_type": "code",
      "source": [
        "# It is possible to nest lists (create lists containing other lists), for example:\n",
        "a = ['a', 'b', 'c']\n",
        "n = [1, 2, 3]\n",
        "x = [a, n]\n",
        "x\n",
        "# [['a', 'b', 'c'], [1, 2, 3]]\n",
        "\n",
        "x[0]\n",
        "# ['a', 'b', 'c']\n",
        "\n",
        "x[0][1]\n",
        "# 'b'\n"
      ],
      "metadata": {
        "colab": {
          "base_uri": "https://localhost:8080/",
          "height": 89
        },
        "id": "d27hUxe7u63L",
        "outputId": "85a13467-5559-4c2c-a461-eee9a8ec1a7d"
      },
      "execution_count": 16,
      "outputs": [
        {
          "output_type": "execute_result",
          "data": {
            "text/plain": [
              "[['a', 'b', 'c'], [1, 2, 3]]"
            ]
          },
          "metadata": {},
          "execution_count": 16
        },
        {
          "output_type": "execute_result",
          "data": {
            "text/plain": [
              "['a', 'b', 'c']"
            ]
          },
          "metadata": {},
          "execution_count": 16
        },
        {
          "output_type": "execute_result",
          "data": {
            "text/plain": [
              "'b'"
            ],
            "application/vnd.google.colaboratory.intrinsic+json": {
              "type": "string"
            }
          },
          "metadata": {},
          "execution_count": 16
        }
      ]
    },
    {
      "cell_type": "markdown",
      "source": [
        "**Mutable (modifiable)**: If an object is mutable, it can be modified in place without creating a new object."
      ],
      "metadata": {
        "id": "o178Hb9lwrj-"
      }
    },
    {
      "cell_type": "code",
      "source": [
        "# Lists are mutable (modifiable)\n",
        "cubes = [1, 8, 27, 65, 125]\n",
        "\n",
        "# The built-in function \"id()\" returns the id of an object:\n",
        "id(cubes)\n",
        "\n",
        "cubes[3] = 64\n",
        "cubes\n",
        "# 1, 8, 27, 64, 125]\n",
        "\n",
        "id(cubes)\n"
      ],
      "metadata": {
        "colab": {
          "base_uri": "https://localhost:8080/"
        },
        "id": "o-iFmV0swq-L",
        "outputId": "3da7f504-bf3f-4fd6-e67d-096cc06d7904"
      },
      "execution_count": 17,
      "outputs": [
        {
          "output_type": "execute_result",
          "data": {
            "text/plain": [
              "139120232760384"
            ]
          },
          "metadata": {},
          "execution_count": 17
        },
        {
          "output_type": "execute_result",
          "data": {
            "text/plain": [
              "[1, 8, 27, 64, 125]"
            ]
          },
          "metadata": {},
          "execution_count": 17
        },
        {
          "output_type": "execute_result",
          "data": {
            "text/plain": [
              "139120232760384"
            ]
          },
          "metadata": {},
          "execution_count": 17
        }
      ]
    },
    {
      "cell_type": "code",
      "source": [
        "# List methods\n",
        "cubes.append(216)\n",
        "cubes\n",
        "cubes.index(216)\n",
        "cubes.reverse()\n",
        "cubes\n",
        "cubes.sort()\n",
        "cubes\n",
        "cubes.remove(216)\n",
        "cubes\n"
      ],
      "metadata": {
        "colab": {
          "base_uri": "https://localhost:8080/"
        },
        "id": "zffB3XNl12LD",
        "outputId": "f6e7518c-d3f1-484b-f7ea-3703dd42adfa"
      },
      "execution_count": 18,
      "outputs": [
        {
          "output_type": "execute_result",
          "data": {
            "text/plain": [
              "[1, 8, 27, 64, 125, 216]"
            ]
          },
          "metadata": {},
          "execution_count": 18
        },
        {
          "output_type": "execute_result",
          "data": {
            "text/plain": [
              "5"
            ]
          },
          "metadata": {},
          "execution_count": 18
        },
        {
          "output_type": "execute_result",
          "data": {
            "text/plain": [
              "[216, 125, 64, 27, 8, 1]"
            ]
          },
          "metadata": {},
          "execution_count": 18
        },
        {
          "output_type": "execute_result",
          "data": {
            "text/plain": [
              "[1, 8, 27, 64, 125, 216]"
            ]
          },
          "metadata": {},
          "execution_count": 18
        },
        {
          "output_type": "execute_result",
          "data": {
            "text/plain": [
              "[1, 8, 27, 64, 125]"
            ]
          },
          "metadata": {},
          "execution_count": 18
        }
      ]
    },
    {
      "cell_type": "code",
      "source": [
        "# The built-in functions \"min()\" and \"max()\" return the smallest and largest item of an iterable:\n",
        "min(cubes)\n",
        "# 1\n",
        "\n",
        "max(cubes)\n",
        "# 125\n",
        "\n",
        "min('python')\n",
        "# 'h'\n",
        "\n",
        "# The built-in function \"sum()\" returns the sum of iterable of numbers:\n",
        "sum(cubes)\n",
        "# 225\n"
      ],
      "metadata": {
        "colab": {
          "base_uri": "https://localhost:8080/",
          "height": 106
        },
        "id": "-LXN0NZ6qkn4",
        "outputId": "b3c90660-0bb7-4541-adf3-64ecb5a36c62"
      },
      "execution_count": 19,
      "outputs": [
        {
          "output_type": "execute_result",
          "data": {
            "text/plain": [
              "1"
            ]
          },
          "metadata": {},
          "execution_count": 19
        },
        {
          "output_type": "execute_result",
          "data": {
            "text/plain": [
              "125"
            ]
          },
          "metadata": {},
          "execution_count": 19
        },
        {
          "output_type": "execute_result",
          "data": {
            "text/plain": [
              "'h'"
            ],
            "application/vnd.google.colaboratory.intrinsic+json": {
              "type": "string"
            }
          },
          "metadata": {},
          "execution_count": 19
        },
        {
          "output_type": "execute_result",
          "data": {
            "text/plain": [
              "225"
            ]
          },
          "metadata": {},
          "execution_count": 19
        }
      ]
    },
    {
      "cell_type": "markdown",
      "source": [
        "## 2.4 Other types\n",
        "\n",
        "Python has other data types including:  \n",
        "- Bool: `True`, `False`\n",
        "- NoneType: `None`\n",
        "- Data Structures: tuple, set, and dictinary\n",
        "\n"
      ],
      "metadata": {
        "id": "xQM8KAMVy46e"
      }
    },
    {
      "cell_type": "code",
      "source": [
        "a = True\n",
        "type(a)\n",
        "\n",
        "n = None\n",
        "type(n)\n",
        "\n",
        "# c = false\n",
        "# type(c)\n",
        "# ???\n"
      ],
      "metadata": {
        "colab": {
          "base_uri": "https://localhost:8080/"
        },
        "id": "V4BYjIYgsH6A",
        "outputId": "1ec79887-0b77-449e-85e9-5eb6c3467a5e"
      },
      "execution_count": 20,
      "outputs": [
        {
          "output_type": "execute_result",
          "data": {
            "text/plain": [
              "bool"
            ]
          },
          "metadata": {},
          "execution_count": 20
        },
        {
          "output_type": "execute_result",
          "data": {
            "text/plain": [
              "NoneType"
            ]
          },
          "metadata": {},
          "execution_count": 20
        }
      ]
    },
    {
      "cell_type": "markdown",
      "source": [
        "###📚 **Workbook practice**\n",
        "\n",
        "Run the following codes line by line. What do you notice?"
      ],
      "metadata": {
        "id": "lSvSLEUzsIYF"
      }
    },
    {
      "cell_type": "code",
      "source": [
        "rgb = [\"R\", \"G\", \"B\"]\n",
        "rgb_copy = rgb  # a copy of rgb list!\n",
        "rgb_copy.append(\"A\")\n",
        "rgb_copy\n",
        "# ???\n",
        "\n",
        "rgb\n",
        "# ???\n",
        "\n",
        "id(rgb) == id(rgb_copy) # they reference the same object\n",
        "# ???\n",
        "\n",
        "rgb = [\"R\", \"G\", \"B\"]\n",
        "correct_rgb_copy = rgb[:]\n",
        "correct_rgb_copy.append(\"A\")\n",
        "correct_rgb_copy\n",
        "# ???\n",
        "\n",
        "rgb\n",
        "# ???\n",
        "\n",
        "id(rgb) == id(correct_rgb_copy)\n",
        "# ???\n"
      ],
      "metadata": {
        "colab": {
          "base_uri": "https://localhost:8080/"
        },
        "id": "o3v-ZoI8zAHR",
        "outputId": "a53f038b-755c-4640-8190-fa98b2b1b7cc"
      },
      "execution_count": 21,
      "outputs": [
        {
          "output_type": "execute_result",
          "data": {
            "text/plain": [
              "['R', 'G', 'B', 'A']"
            ]
          },
          "metadata": {},
          "execution_count": 21
        },
        {
          "output_type": "execute_result",
          "data": {
            "text/plain": [
              "['R', 'G', 'B', 'A']"
            ]
          },
          "metadata": {},
          "execution_count": 21
        },
        {
          "output_type": "execute_result",
          "data": {
            "text/plain": [
              "True"
            ]
          },
          "metadata": {},
          "execution_count": 21
        },
        {
          "output_type": "execute_result",
          "data": {
            "text/plain": [
              "['R', 'G', 'B', 'A']"
            ]
          },
          "metadata": {},
          "execution_count": 21
        },
        {
          "output_type": "execute_result",
          "data": {
            "text/plain": [
              "['R', 'G', 'B']"
            ]
          },
          "metadata": {},
          "execution_count": 21
        },
        {
          "output_type": "execute_result",
          "data": {
            "text/plain": [
              "False"
            ]
          },
          "metadata": {},
          "execution_count": 21
        }
      ]
    },
    {
      "cell_type": "markdown",
      "source": [
        "----\n",
        "# ☕ - Break (10 Min)\n",
        "----"
      ],
      "metadata": {
        "id": "Ni7Kgw6aUzW0"
      }
    },
    {
      "cell_type": "markdown",
      "source": [
        "# 3. Control Flow Tools\n",
        "\n",
        "## 3.1 `if` statement"
      ],
      "metadata": {
        "id": "SbD9jgOP3cOr"
      }
    },
    {
      "cell_type": "code",
      "source": [
        "x = int(input(\"Please enter an integer: \"))\n",
        "if x < 0:\n",
        "    x = 0\n",
        "    print('Negative changed to zero')\n",
        "elif x == 0:\n",
        "    print('Zero')\n",
        "elif x == 1:\n",
        "    print('Single')\n",
        "else:\n",
        "    print('More')\n"
      ],
      "metadata": {
        "colab": {
          "base_uri": "https://localhost:8080/"
        },
        "id": "ZIhCO6116XF5",
        "outputId": "f0dbd61c-7513-4cb1-d084-66edd64222dd"
      },
      "execution_count": 22,
      "outputs": [
        {
          "output_type": "stream",
          "name": "stdout",
          "text": [
            "Please enter an integer: 22\n",
            "More\n"
          ]
        }
      ]
    },
    {
      "cell_type": "markdown",
      "source": [
        "`if` statement syntax (the indentations are required):\n",
        "\n",
        "```\n",
        "if condition True (then):\n",
        "    do this\n",
        "    and that\n",
        "elif condition True:\n",
        "    do this\n",
        "    and that\n",
        "    and this\n",
        "else\n",
        "    do this\n",
        "```\n",
        "\n",
        "There can be zero or more `elif` parts, and the `else` part is optional. The keyword `elif` is short for \"else if\".\n",
        "\n",
        "🚀🔥 **Note:** Since the equal sign (`=`) is reserved for assigning variables, Python uses double equal signs (`==`) to compare the equality of two values. Other comparison operators include: not equal (`!=`), less than (`<`), less than or equal to (`<=`), greater than (`>`), and greater than or equal to (`>=`).\n",
        "\n",
        "## 3.2 `for` statement\n",
        "Python's `for` statement iterates over the items of any sequence (a list or a string), in the order that they appear in the sequence. For example:"
      ],
      "metadata": {
        "id": "ZPiblZDD73wT"
      }
    },
    {
      "cell_type": "code",
      "source": [
        "# Measure some strings:\n",
        "words = ['cat', 'window', 'defenestrate']\n",
        "for w in words:\n",
        "    print(w, len(w))\n",
        "\n",
        "# w is a temporary variable that assign to each item in the sequence.\n",
        "# w in words means:\n",
        "#   iteration 1: w = 'cat'\n",
        "#   iteration 2: w = 'window'\n",
        "#   iteration 3: w = 'defenestrate'\n"
      ],
      "metadata": {
        "colab": {
          "base_uri": "https://localhost:8080/"
        },
        "id": "QeFivvOt-ekC",
        "outputId": "d74c4067-ef88-4202-d7c7-7ebbfab9b75e"
      },
      "execution_count": 23,
      "outputs": [
        {
          "output_type": "stream",
          "name": "stdout",
          "text": [
            "cat 3\n",
            "window 6\n",
            "defenestrate 12\n"
          ]
        }
      ]
    },
    {
      "cell_type": "markdown",
      "source": [
        "`for` statement syntax (the indentations are required):\n",
        "\n",
        "```\n",
        "for temp_variable in sequence:\n",
        "    do this\n",
        "    and that\n",
        "```\n"
      ],
      "metadata": {
        "id": "eUvddl_xAepU"
      }
    },
    {
      "cell_type": "code",
      "source": [
        "# Measure some strings if the string length is less than 10:\n",
        "words = ['cat', 'window', 'defenestrate']\n",
        "for w in words:\n",
        "    if len(w) < 10:\n",
        "        print(w, len(w))\n"
      ],
      "metadata": {
        "colab": {
          "base_uri": "https://localhost:8080/"
        },
        "id": "2oDFAc9GCVmP",
        "outputId": "2ac70862-a9b9-48ef-df51-d3724456906d"
      },
      "execution_count": 24,
      "outputs": [
        {
          "output_type": "stream",
          "name": "stdout",
          "text": [
            "cat 3\n",
            "window 6\n"
          ]
        }
      ]
    },
    {
      "cell_type": "markdown",
      "source": [
        "If you do need to iterate over a sequence of numbers, the built-in function `range()` comes in handy. It generates arithmetic progressions:"
      ],
      "metadata": {
        "id": "DieslXbNFFWx"
      }
    },
    {
      "cell_type": "code",
      "source": [
        "for i in range(5):\n",
        "    print(i)\n"
      ],
      "metadata": {
        "colab": {
          "base_uri": "https://localhost:8080/"
        },
        "id": "CPpDONaMFaey",
        "outputId": "3d73c2ad-b030-43fa-ff23-10f207b284ed"
      },
      "execution_count": 25,
      "outputs": [
        {
          "output_type": "stream",
          "name": "stdout",
          "text": [
            "0\n",
            "1\n",
            "2\n",
            "3\n",
            "4\n"
          ]
        }
      ]
    },
    {
      "cell_type": "code",
      "source": [
        "list(range(5)) # range from 0 to 5 (incuding \"from\" but not \"to\")\n",
        "# [0, 1, 2, 3, 4]\n",
        "\n",
        "list(range(1, 5)) # range from 1 to 5\n",
        "# 1, 2, 3, 4]\n",
        "\n",
        "list(range(1, 10, 3)) # range from 1 to 10 with step 3\n",
        "# [1, 4, 7]\n"
      ],
      "metadata": {
        "colab": {
          "base_uri": "https://localhost:8080/"
        },
        "id": "UmUHK859FwNC",
        "outputId": "052fe7d8-c170-4b64-9b8e-de99e00d80a2"
      },
      "execution_count": 26,
      "outputs": [
        {
          "output_type": "execute_result",
          "data": {
            "text/plain": [
              "[0, 1, 2, 3, 4]"
            ]
          },
          "metadata": {},
          "execution_count": 26
        },
        {
          "output_type": "execute_result",
          "data": {
            "text/plain": [
              "[1, 2, 3, 4]"
            ]
          },
          "metadata": {},
          "execution_count": 26
        },
        {
          "output_type": "execute_result",
          "data": {
            "text/plain": [
              "[1, 4, 7]"
            ]
          },
          "metadata": {},
          "execution_count": 26
        }
      ]
    },
    {
      "cell_type": "code",
      "source": [
        "# Using both \"range()\" and \"len()\" functions\n",
        "a = ['Mary', 'had', 'a', 'little', 'lamb']\n",
        "for i in range(len(a)):\n",
        "    print(i, a[i])\n"
      ],
      "metadata": {
        "colab": {
          "base_uri": "https://localhost:8080/"
        },
        "id": "aIU2BaVqGhFu",
        "outputId": "7c4612bf-af94-4f02-f0fd-95668d6cf787"
      },
      "execution_count": 27,
      "outputs": [
        {
          "output_type": "stream",
          "name": "stdout",
          "text": [
            "0 Mary\n",
            "1 had\n",
            "2 a\n",
            "3 little\n",
            "4 lamb\n"
          ]
        }
      ]
    },
    {
      "cell_type": "markdown",
      "source": [
        "###📚 **Workbook practice**\n",
        "\n",
        "#### **Task:**  \n",
        "Write a Python program that checks how many numbers in a given list are positive.  \n",
        "\n",
        "#### **Instructions:**  \n",
        "1. Define a list of numbers (both positive and negative).  \n",
        "2. Use a `for` loop to iterate through the list.  \n",
        "3. Use an `if` statement to check if a number is greater than zero.  \n",
        "4. Count and print the number of positive values.  \n",
        "\n",
        "\n",
        "#### **Expected Output:**  \n",
        "```python\n",
        "# Sample list\n",
        "numbers = [-3, 5, -1, 7, 0, -8, 10]\n",
        "\n",
        "# Output\n",
        "Count of positive numbers: 3\n",
        "```\n",
        "\n",
        "This quick practice reinforces **`for` loops and `if` statements** in Python. 🚀"
      ],
      "metadata": {
        "id": "0IsoPksZWMgT"
      }
    },
    {
      "cell_type": "markdown",
      "source": [
        "## 3.3 `while` statement\n",
        "The `while` loop executes as long as the condition remains true."
      ],
      "metadata": {
        "id": "77mwTB0VKLTb"
      }
    },
    {
      "cell_type": "code",
      "source": [
        "# Sum of two elements defines the next\n",
        "a, b = 0, 1\n",
        "while a < 10:\n",
        "    print(a)\n",
        "    a, b = b, a+b\n"
      ],
      "metadata": {
        "colab": {
          "base_uri": "https://localhost:8080/"
        },
        "id": "IG8HoyipKxD_",
        "outputId": "a332c65a-7844-4975-8af6-f1ce86a9ede3"
      },
      "execution_count": 28,
      "outputs": [
        {
          "output_type": "stream",
          "name": "stdout",
          "text": [
            "0\n",
            "1\n",
            "1\n",
            "2\n",
            "3\n",
            "5\n",
            "8\n"
          ]
        }
      ]
    },
    {
      "cell_type": "markdown",
      "source": [
        "# 4.4 `break` and `continue` statements\n",
        "\n",
        "The `break` statement breaks out of the innermost enclosing for or while loop:"
      ],
      "metadata": {
        "id": "pVGAPZv0dhSE"
      }
    },
    {
      "cell_type": "code",
      "source": [
        "# Finding the first even number in a list\n",
        "for n in range(3, 10):\n",
        "    if n % 2 == 0:\n",
        "        print(n, \"is even\")\n",
        "        break\n",
        "    else:\n",
        "        print(n, \"is odd\")\n"
      ],
      "metadata": {
        "colab": {
          "base_uri": "https://localhost:8080/"
        },
        "id": "ybON-FAadguY",
        "outputId": "86e44818-ebcf-4083-b507-7f0be29187d1"
      },
      "execution_count": 29,
      "outputs": [
        {
          "output_type": "stream",
          "name": "stdout",
          "text": [
            "3 is odd\n",
            "4 is even\n"
          ]
        }
      ]
    },
    {
      "cell_type": "markdown",
      "source": [
        "The `continue` statement continues with the next iteration of the loop:"
      ],
      "metadata": {
        "id": "0lubWOp3f01k"
      }
    },
    {
      "cell_type": "code",
      "source": [
        "# Finding even and odd numbers in a list\n",
        "for n in range(3, 10):\n",
        "    if n % 2 == 0:\n",
        "        print(f\"{n} is even\")\n",
        "        continue\n",
        "    print(f\"{n} is odd\")\n"
      ],
      "metadata": {
        "colab": {
          "base_uri": "https://localhost:8080/"
        },
        "id": "Thc9ioeHfz8T",
        "outputId": "456929f5-a310-431f-d7b6-086ca9733c75"
      },
      "execution_count": 30,
      "outputs": [
        {
          "output_type": "stream",
          "name": "stdout",
          "text": [
            "3 is odd\n",
            "4 is even\n",
            "5 is odd\n",
            "6 is even\n",
            "7 is odd\n",
            "8 is even\n",
            "9 is odd\n"
          ]
        }
      ]
    },
    {
      "cell_type": "markdown",
      "source": [
        "In a `for` or `while` loop the `break` statement may be paired with an `else` clause. If the loop finishes **without** executing the break, the `else` clause executes."
      ],
      "metadata": {
        "id": "V7Pf89qJj1b7"
      }
    },
    {
      "cell_type": "code",
      "source": [
        "for n in range(2, 10):\n",
        "    #print(\"n\", n)\n",
        "    for x in range(2, n):\n",
        "        #print(\"x\", x)\n",
        "        if n % x == 0:\n",
        "            print(n, 'equals', x, '*', n//x)\n",
        "            break\n",
        "    else:\n",
        "        # loop fell through without finding a factor\n",
        "        print(n, 'is a prime number')\n"
      ],
      "metadata": {
        "colab": {
          "base_uri": "https://localhost:8080/"
        },
        "id": "Y9vCiLGPhoi4",
        "outputId": "6696eb26-f64e-42ca-a5c6-1f8963c42bf0"
      },
      "execution_count": 31,
      "outputs": [
        {
          "output_type": "stream",
          "name": "stdout",
          "text": [
            "2 is a prime number\n",
            "3 is a prime number\n",
            "4 equals 2 * 2\n",
            "5 is a prime number\n",
            "6 equals 2 * 3\n",
            "7 is a prime number\n",
            "8 equals 2 * 4\n",
            "9 equals 3 * 3\n"
          ]
        }
      ]
    },
    {
      "cell_type": "markdown",
      "source": [
        "# 4. Defining Functions\n",
        "\n",
        "💡 **Reminder**: Python has a set of built-in functions for performing specific tasks. All Python functions use parentheses to receive the required arguments for execution, following the format `function_name(args)`. You can find all Python built-in functions in [here](https://docs.python.org/3/library/functions.html).\n",
        "\n",
        "In Python, we can create our own functions! The keyword `def` introduces a function definition. It must be followed by the function name and the parenthesized list of formal parameters (arguments):\n",
        "\n",
        "```\n",
        "def function_name(arguments):\n",
        "    \"\"\"\n",
        "    docstring\n",
        "    \"\"\"\n",
        "    body\n",
        "```\n",
        "\n",
        "The first statement of the function body can optionally be a string literal; this string literal is the function's documentation string, or **docstring** (more about docstrings can be found in [here](https://docs.python.org/3/tutorial/controlflow.html#documentation-strings)).\n",
        "\n",
        "For example let's define a function that returns the Fibonacci series less than a given number. For example the follwing is the Fibonacci series less than 10:\n",
        "\n",
        "```\n",
        "0, 1\n",
        "0, 1, 0+1\n",
        "0, 1, 1, 1+1\n",
        "0, 1, 1, 2, 1+2\n",
        "0, 1, 1, 2, 3, 2+3\n",
        "0, 1, 1, 2, 3, 5, 8\n",
        "```"
      ],
      "metadata": {
        "id": "x__U_Rg0hp2v"
      }
    },
    {
      "cell_type": "code",
      "source": [
        "# Write Fibonacci series less than n\n",
        "def fib(n):\n",
        "    \"\"\"\n",
        "    Print a Fibonacci series less than n.\n",
        "    \"\"\"\n",
        "    a, b = 0, 1\n",
        "    while a < n:\n",
        "        print(a, end=' ')\n",
        "        a, b = b, a+b\n",
        "    print()\n",
        "\n",
        "# Now call the function we just defined:\n",
        "fib(2000)\n",
        "\n",
        "# Store the output\n",
        "fib2000 = fib(2000)\n",
        "\n",
        "print(fib2000)\n",
        "# None\n"
      ],
      "metadata": {
        "colab": {
          "base_uri": "https://localhost:8080/"
        },
        "id": "XZ-rvYrqnj7s",
        "outputId": "41ab553b-30a7-4958-90e0-3d6915bcad95"
      },
      "execution_count": 32,
      "outputs": [
        {
          "output_type": "stream",
          "name": "stdout",
          "text": [
            "0 1 1 2 3 5 8 13 21 34 55 89 144 233 377 610 987 1597 \n",
            "0 1 1 2 3 5 8 13 21 34 55 89 144 233 377 610 987 1597 \n",
            "None\n"
          ]
        }
      ]
    },
    {
      "cell_type": "markdown",
      "source": [
        "If a function does not have a `return` statement, it returns `None` by default. So, use `return` when you need a value from the function.\n",
        "\n",
        "Note that a function does not execute any code after a `return` statement. Once `return` is encountered, the function exits immediately.\n",
        "\n",
        "Let's rewrite the function:"
      ],
      "metadata": {
        "id": "hKBepnOCx22s"
      }
    },
    {
      "cell_type": "code",
      "source": [
        "# Return Fibonacci series up to n\n",
        "def fib2(n):\n",
        "    \"\"\"\n",
        "    Return a list containing the Fibonacci series up to n.\n",
        "    \"\"\"\n",
        "    result = []\n",
        "    a, b = 0, 1\n",
        "    while a < n:\n",
        "        result.append(a)\n",
        "        a, b = b, a+b\n",
        "    return result\n",
        "\n",
        "# Now call the function:\n",
        "f100 = fib2(100)\n",
        "f100\n",
        "# [0, 1, 1, 2, 3, 5, 8, 13, 21, 34, 55, 89]\n"
      ],
      "metadata": {
        "colab": {
          "base_uri": "https://localhost:8080/"
        },
        "id": "gQcEAGIOxgVd",
        "outputId": "eb5c0b4b-0702-442e-fe18-d1fedcc02090"
      },
      "execution_count": 33,
      "outputs": [
        {
          "output_type": "execute_result",
          "data": {
            "text/plain": [
              "[0, 1, 1, 2, 3, 5, 8, 13, 21, 34, 55, 89]"
            ]
          },
          "metadata": {},
          "execution_count": 33
        }
      ]
    },
    {
      "cell_type": "markdown",
      "source": [
        "###📚 **Workbook practice**\n",
        "\n",
        "#### **Task:**  \n",
        "Write a Python function called `filter_even_numbers()` that takes a list of numbers as input and returns a new list containing only the even numbers.  \n",
        "\n",
        "#### **Instructions:**  \n",
        "1. Define a function `filter_even_numbers(numbers)`.  \n",
        "2. Use a loop (`for` or `while`) to iterate through the list.  \n",
        "3. Use an `if` statement to check if each number is even (`number % 2 == 0`).  \n",
        "4. Store even numbers in a new list.  \n",
        "5. Return the filtered list.  \n",
        "6. Test the function with an example list, e.g., `test = [1, 2, 3, 4, 5, 6, 7, 8]`.  \n",
        "\n",
        "#### **Help Code:**\n",
        "```python\n",
        "def filter_even_numbers(numbers):\n",
        "    \"\"\"\n",
        "    Returns a list of even numbers from a list.\n",
        "    \"\"\"\n",
        "    result = ...\n",
        "    for ...:\n",
        "        if ...:\n",
        "            ...\n",
        "    return result\n",
        "```\n",
        "\n",
        "#### **Example Output:**  \n",
        "```python\n",
        "print(filter_even_numbers(test))\n",
        "# Output: [2, 4, 6, 8]\n",
        "```  \n"
      ],
      "metadata": {
        "id": "PNzgk5svvNym"
      }
    },
    {
      "cell_type": "markdown",
      "source": [
        "----\n",
        "# ☕ - Break (10 Min)\n",
        "----"
      ],
      "metadata": {
        "id": "1OAQL9PBWWaY"
      }
    },
    {
      "cell_type": "markdown",
      "source": [
        "# 5. Data Structures\n",
        "\n",
        "This chapter describes some things you've learned about already in more detail, and adds some new things as well.\n",
        "\n",
        "## 5.1 Lists\n",
        "\n",
        "An example that uses most of the list **methods**:"
      ],
      "metadata": {
        "id": "QRlp7_foRwS4"
      }
    },
    {
      "cell_type": "code",
      "source": [
        "fruits = ['orange', 'apple', 'pear', 'banana', 'kiwi', 'apple', 'banana']\n",
        "\n",
        "fruits.count('apple')\n",
        "# 2\n",
        "\n",
        "fruits.count('tangerine')\n",
        "# 0\n",
        "\n",
        "fruits.index('banana')\n",
        "# 3\n",
        "\n",
        "fruits.index('banana', 4)  # Find next banana starting at position 4\n",
        "# 6\n",
        "\n",
        "fruits.reverse()\n",
        "fruits\n",
        "# ['banana', 'apple', 'kiwi', 'banana', 'pear', 'apple', 'orange']\n",
        "\n",
        "fruits.append('grape')\n",
        "fruits\n",
        "# ['banana', 'apple', 'kiwi', 'banana', 'pear', 'apple', 'orange', 'grape']\n",
        "\n",
        "fruits.sort()\n",
        "fruits\n",
        "# ['apple', 'apple', 'banana', 'banana', 'grape', 'kiwi', 'orange', 'pear']\n",
        "\n",
        "fruits.pop()\n",
        "# 'pear'\n",
        "\n",
        "fruits\n",
        "# ['apple', 'apple', 'banana', 'banana', 'grape', 'kiwi', 'orange']\n",
        "\n",
        "fruits.remove('banana')\n",
        "fruits\n",
        "# ['apple', 'apple', 'banana', 'grape', 'kiwi', 'orange']\n"
      ],
      "metadata": {
        "colab": {
          "base_uri": "https://localhost:8080/",
          "height": 207
        },
        "id": "SeDVfXMdSlkK",
        "outputId": "550e7c82-7461-440d-deae-03c7f238de24"
      },
      "execution_count": 34,
      "outputs": [
        {
          "output_type": "execute_result",
          "data": {
            "text/plain": [
              "2"
            ]
          },
          "metadata": {},
          "execution_count": 34
        },
        {
          "output_type": "execute_result",
          "data": {
            "text/plain": [
              "0"
            ]
          },
          "metadata": {},
          "execution_count": 34
        },
        {
          "output_type": "execute_result",
          "data": {
            "text/plain": [
              "3"
            ]
          },
          "metadata": {},
          "execution_count": 34
        },
        {
          "output_type": "execute_result",
          "data": {
            "text/plain": [
              "6"
            ]
          },
          "metadata": {},
          "execution_count": 34
        },
        {
          "output_type": "execute_result",
          "data": {
            "text/plain": [
              "['banana', 'apple', 'kiwi', 'banana', 'pear', 'apple', 'orange']"
            ]
          },
          "metadata": {},
          "execution_count": 34
        },
        {
          "output_type": "execute_result",
          "data": {
            "text/plain": [
              "['banana', 'apple', 'kiwi', 'banana', 'pear', 'apple', 'orange', 'grape']"
            ]
          },
          "metadata": {},
          "execution_count": 34
        },
        {
          "output_type": "execute_result",
          "data": {
            "text/plain": [
              "['apple', 'apple', 'banana', 'banana', 'grape', 'kiwi', 'orange', 'pear']"
            ]
          },
          "metadata": {},
          "execution_count": 34
        },
        {
          "output_type": "execute_result",
          "data": {
            "text/plain": [
              "'pear'"
            ],
            "application/vnd.google.colaboratory.intrinsic+json": {
              "type": "string"
            }
          },
          "metadata": {},
          "execution_count": 34
        },
        {
          "output_type": "execute_result",
          "data": {
            "text/plain": [
              "['apple', 'apple', 'banana', 'banana', 'grape', 'kiwi', 'orange']"
            ]
          },
          "metadata": {},
          "execution_count": 34
        },
        {
          "output_type": "execute_result",
          "data": {
            "text/plain": [
              "['apple', 'apple', 'banana', 'grape', 'kiwi', 'orange']"
            ]
          },
          "metadata": {},
          "execution_count": 34
        }
      ]
    },
    {
      "cell_type": "markdown",
      "source": [
        "Another applicatin of lists is **List Comprehension**. List comprehensions (*listcomp*) provide a concise way to create lists.\n",
        "\n",
        "For example, assume we want to create a list of squares, like:"
      ],
      "metadata": {
        "id": "kDxMVeIpT2tH"
      }
    },
    {
      "cell_type": "code",
      "source": [
        "squares = []\n",
        "for x in range(10):\n",
        "    squares.append(x**2)\n",
        "\n",
        "squares\n",
        "# [0, 1, 4, 9, 16, 25, 36, 49, 64, 81]\n"
      ],
      "metadata": {
        "colab": {
          "base_uri": "https://localhost:8080/"
        },
        "id": "-znCq9KnT2Xi",
        "outputId": "8e816c9a-881f-4f02-b511-c8be5cbadfb1"
      },
      "execution_count": 35,
      "outputs": [
        {
          "output_type": "execute_result",
          "data": {
            "text/plain": [
              "[0, 1, 4, 9, 16, 25, 36, 49, 64, 81]"
            ]
          },
          "metadata": {},
          "execution_count": 35
        }
      ]
    },
    {
      "cell_type": "markdown",
      "source": [
        "or, equivalently:"
      ],
      "metadata": {
        "id": "cSm-HXW4UffE"
      }
    },
    {
      "cell_type": "code",
      "source": [
        "squares = [x**2 for x in range(0, 10)]\n",
        "squares\n",
        "# [0, 1, 4, 9, 16, 25, 36, 49, 64, 81]\n",
        "\n",
        "# Want to multiply each item of the list by 2:\n",
        "squares * 2 # this will concatinate two lists!\n",
        "# [0, 1, 4, 9, 16, 25, 36, 49, 64, 81, 0, 1, 4, 9, 16, 25, 36, 49, 64, 81]\n",
        "\n",
        "[x * 2 for x in squares]\n",
        "# [0, 2, 8, 18, 32, 50, 72, 98, 128, 162]\n"
      ],
      "metadata": {
        "id": "yeMGMlQQUg2F",
        "colab": {
          "base_uri": "https://localhost:8080/"
        },
        "outputId": "5c26376d-659f-46ab-edc1-2a16e1165971"
      },
      "execution_count": 36,
      "outputs": [
        {
          "output_type": "execute_result",
          "data": {
            "text/plain": [
              "[0, 1, 4, 9, 16, 25, 36, 49, 64, 81]"
            ]
          },
          "metadata": {},
          "execution_count": 36
        },
        {
          "output_type": "execute_result",
          "data": {
            "text/plain": [
              "[0, 1, 4, 9, 16, 25, 36, 49, 64, 81, 0, 1, 4, 9, 16, 25, 36, 49, 64, 81]"
            ]
          },
          "metadata": {},
          "execution_count": 36
        },
        {
          "output_type": "execute_result",
          "data": {
            "text/plain": [
              "[0, 2, 8, 18, 32, 50, 72, 98, 128, 162]"
            ]
          },
          "metadata": {},
          "execution_count": 36
        }
      ]
    },
    {
      "cell_type": "markdown",
      "source": [
        "For example, this **listcomp** combines the elements of two lists if they are not equal:"
      ],
      "metadata": {
        "id": "8nvFmtZUUgfO"
      }
    },
    {
      "cell_type": "code",
      "source": [
        "[[x, y] for x in [1,2,3] for y in [3,1,4] if x != y]\n",
        "# [[1, 3], [1, 4], [2, 3], [2, 1], [2, 4], [3, 1], [3, 4]]\n"
      ],
      "metadata": {
        "colab": {
          "base_uri": "https://localhost:8080/"
        },
        "id": "hxDl9dBnXHvy",
        "outputId": "05cfca1f-04c5-4e34-f1f2-6fa77010227c"
      },
      "execution_count": 37,
      "outputs": [
        {
          "output_type": "execute_result",
          "data": {
            "text/plain": [
              "[[1, 3], [1, 4], [2, 3], [2, 1], [2, 4], [3, 1], [3, 4]]"
            ]
          },
          "metadata": {},
          "execution_count": 37
        }
      ]
    },
    {
      "cell_type": "markdown",
      "source": [
        "Instead of:"
      ],
      "metadata": {
        "id": "23niiA5TYwxn"
      }
    },
    {
      "cell_type": "code",
      "source": [
        "combs = []\n",
        "for x in [1,2,3]:\n",
        "    for y in [3,1,4]:\n",
        "        if x != y:\n",
        "            combs.append((x, y))\n",
        "\n",
        "combs\n",
        "#[(1, 3), (1, 4), (2, 3), (2, 1), (2, 4), (3, 1), (3, 4)]\n"
      ],
      "metadata": {
        "colab": {
          "base_uri": "https://localhost:8080/"
        },
        "id": "E01mxvH2ZZ-c",
        "outputId": "88703362-3c6c-4d2b-d3a3-45635a3d10e0"
      },
      "execution_count": 38,
      "outputs": [
        {
          "output_type": "execute_result",
          "data": {
            "text/plain": [
              "[(1, 3), (1, 4), (2, 3), (2, 1), (2, 4), (3, 1), (3, 4)]"
            ]
          },
          "metadata": {},
          "execution_count": 38
        }
      ]
    },
    {
      "cell_type": "markdown",
      "source": [
        "## 5.2 Tuples\n",
        "\n",
        "A tuple consists of a number of values separated by commas. Though tuples may seem similar to lists, they are often used in different situations and for different purposes.\n",
        "\n",
        "🚀 Tuples are **immutable**, and usually contain a **heterogeneous** sequence of elements that are accessed via unpacking or indexing. Tuples may be input with or without surrounding parentheses. Tuples support indexing and can be concatenated."
      ],
      "metadata": {
        "id": "2ftXnPtkaFQR"
      }
    },
    {
      "cell_type": "code",
      "source": [
        "t = (12345, 54321, 'hello!')\n",
        "type(t)\n",
        "\n",
        "# without the surrounding parentheses\n",
        "t = 12345, 54321, 'hello!' # packing\n",
        "t\n",
        "# (12345, 54321, 'hello!')\n",
        "\n",
        "# Tuples are indexable\n",
        "t[0]\n",
        "# 12345\n",
        "\n",
        "t[1:]\n",
        "# (54321, 'hello!')\n",
        "\n",
        "# Tuples can be concatenated\n",
        "u = 1, 2, 'three'\n",
        "t + u\n",
        "# (12345, 54321, 'hello!', 1, 2, 'three')\n"
      ],
      "metadata": {
        "colab": {
          "base_uri": "https://localhost:8080/"
        },
        "id": "4LmoSVxDRShF",
        "outputId": "09252f31-e7ea-45e2-a3b6-d851a904b365"
      },
      "execution_count": 39,
      "outputs": [
        {
          "output_type": "execute_result",
          "data": {
            "text/plain": [
              "tuple"
            ]
          },
          "metadata": {},
          "execution_count": 39
        },
        {
          "output_type": "execute_result",
          "data": {
            "text/plain": [
              "(12345, 54321, 'hello!')"
            ]
          },
          "metadata": {},
          "execution_count": 39
        },
        {
          "output_type": "execute_result",
          "data": {
            "text/plain": [
              "12345"
            ]
          },
          "metadata": {},
          "execution_count": 39
        },
        {
          "output_type": "execute_result",
          "data": {
            "text/plain": [
              "(54321, 'hello!')"
            ]
          },
          "metadata": {},
          "execution_count": 39
        },
        {
          "output_type": "execute_result",
          "data": {
            "text/plain": [
              "(12345, 54321, 'hello!', 1, 2, 'three')"
            ]
          },
          "metadata": {},
          "execution_count": 39
        }
      ]
    },
    {
      "cell_type": "code",
      "source": [
        "# Sequence unpacking\n",
        "x, y, z = u\n",
        "print(x, y, z)\n",
        "# 1 2 three\n",
        "\n",
        "# You can also use the asterisk (*) to unpack multiple elements into a single list\n",
        "x, *y = u\n",
        "print(x, y)\n",
        "# 1 [2, 'three']\n",
        "\n",
        "# Tuples may be nested:\n",
        "u = (t, (10, 20, 30))\n",
        "u\n",
        "# ((12345, 54321, 'hello!'), (10, 20, 30))\n"
      ],
      "metadata": {
        "colab": {
          "base_uri": "https://localhost:8080/"
        },
        "id": "TVLxOSVGWobH",
        "outputId": "0c14c922-8f44-4ea2-8de6-df88c1da7a81"
      },
      "execution_count": 40,
      "outputs": [
        {
          "output_type": "stream",
          "name": "stdout",
          "text": [
            "1 2 three\n",
            "1 [2, 'three']\n"
          ]
        },
        {
          "output_type": "execute_result",
          "data": {
            "text/plain": [
              "((12345, 54321, 'hello!'), (10, 20, 30))"
            ]
          },
          "metadata": {},
          "execution_count": 40
        }
      ]
    },
    {
      "cell_type": "code",
      "source": [
        "# Singleton and empty tuples\n",
        "singleton = 'hello',    # <-- note trailing comma\n",
        "singleton\n",
        "# ('hello',)\n",
        "\n",
        "empty = ()\n",
        "empty\n",
        "\n",
        "# Tuples only have two methods:\n",
        "t\n",
        "# (12345, 54321, 'hello!')\n",
        "\n",
        "t.count(12345)\n",
        "t.index('hello!')\n",
        "\n",
        "# The built-in function \"list()\" returns a list of any iterable object\n",
        "list(t)\n",
        "# [12345, 54321, 'hello!']\n"
      ],
      "metadata": {
        "colab": {
          "base_uri": "https://localhost:8080/"
        },
        "id": "IbqLDaRyW7F7",
        "outputId": "0fa6d903-f39e-4687-c82c-d11fd407c644"
      },
      "execution_count": 41,
      "outputs": [
        {
          "output_type": "execute_result",
          "data": {
            "text/plain": [
              "('hello',)"
            ]
          },
          "metadata": {},
          "execution_count": 41
        },
        {
          "output_type": "execute_result",
          "data": {
            "text/plain": [
              "()"
            ]
          },
          "metadata": {},
          "execution_count": 41
        },
        {
          "output_type": "execute_result",
          "data": {
            "text/plain": [
              "(12345, 54321, 'hello!')"
            ]
          },
          "metadata": {},
          "execution_count": 41
        },
        {
          "output_type": "execute_result",
          "data": {
            "text/plain": [
              "1"
            ]
          },
          "metadata": {},
          "execution_count": 41
        },
        {
          "output_type": "execute_result",
          "data": {
            "text/plain": [
              "2"
            ]
          },
          "metadata": {},
          "execution_count": 41
        },
        {
          "output_type": "execute_result",
          "data": {
            "text/plain": [
              "[12345, 54321, 'hello!']"
            ]
          },
          "metadata": {},
          "execution_count": 41
        }
      ]
    },
    {
      "cell_type": "markdown",
      "source": [
        "Remember the Fibonacci series, where we have two variables, `a` and `b`, and want to update them as `a = b` and `b = a + b`:"
      ],
      "metadata": {
        "id": "_6FCNT3kcaJ9"
      }
    },
    {
      "cell_type": "code",
      "source": [
        "# Withou tuples\n",
        "a = 10\n",
        "b = 20\n",
        "a = b\n",
        "b = a + b\n",
        "print(a, b)\n",
        "# 20 40\n",
        "\n",
        "# With using tuples\n",
        "a = 10\n",
        "b = 20\n",
        "a, b = b, a + b\n",
        "print(a, b)\n",
        "# 20 30\n"
      ],
      "metadata": {
        "colab": {
          "base_uri": "https://localhost:8080/"
        },
        "id": "ZYWaGJ05Zi0A",
        "outputId": "34a34b15-1547-416d-d63a-fa43809f6be1"
      },
      "execution_count": 42,
      "outputs": [
        {
          "output_type": "stream",
          "name": "stdout",
          "text": [
            "20 40\n",
            "20 30\n"
          ]
        }
      ]
    },
    {
      "cell_type": "markdown",
      "source": [
        "## 5.3 Sets\n",
        "\n",
        "Python also includes a data type for sets. A set is an **unordered** collection with **no duplicate** elements.\n",
        "\n",
        "Basic uses include membership testing and eliminating duplicate entries. Set objects also support mathematical operations like union, intersection, difference, and symmetric difference.\n",
        "\n",
        "🚀 Curly braces or the `set()` function can be used to create sets. Note: to create an empty set you have to use `set()`, not `{}`; the latter creates an empty dictionary, a data structure that we discuss in the next section.\n",
        "\n",
        "Sets are **mutable**, but they are neither subscriptable nor concatenable."
      ],
      "metadata": {
        "id": "irpStm8Te6IV"
      }
    },
    {
      "cell_type": "code",
      "source": [
        "basket = {'apple', 'orange', 'apple', 'pear', 'orange', 'banana'}\n",
        "\n",
        "# Show that duplicates have been removed\n",
        "print(basket)\n",
        "# {'banana', 'apple', 'pear', 'orange'}\n",
        "\n",
        "# Membership testing\n",
        "'orange' in basket\n",
        "# True\n",
        "\n",
        "'crabgrass' in basket\n",
        "# False\n",
        "\n",
        "empty = set()\n",
        "empty\n",
        "\n",
        "# The built-in function \"sorted()\" returns a new list containing all items from the iterable in ascending order.\n",
        "bs_sorted = sorted(basket)\n",
        "bs_sorted\n",
        "# ['apple', 'banana', 'orange', 'pear']\n",
        "\n",
        "set(bs_sorted)\n",
        "# {'apple', 'banana', 'orange', 'pear'}\n"
      ],
      "metadata": {
        "colab": {
          "base_uri": "https://localhost:8080/"
        },
        "id": "6iJaj2VYgxuX",
        "outputId": "27b7b52f-f9d0-4575-864c-4ebbcc8a76e3"
      },
      "execution_count": 43,
      "outputs": [
        {
          "output_type": "stream",
          "name": "stdout",
          "text": [
            "{'orange', 'banana', 'pear', 'apple'}\n"
          ]
        },
        {
          "output_type": "execute_result",
          "data": {
            "text/plain": [
              "True"
            ]
          },
          "metadata": {},
          "execution_count": 43
        },
        {
          "output_type": "execute_result",
          "data": {
            "text/plain": [
              "False"
            ]
          },
          "metadata": {},
          "execution_count": 43
        },
        {
          "output_type": "execute_result",
          "data": {
            "text/plain": [
              "set()"
            ]
          },
          "metadata": {},
          "execution_count": 43
        },
        {
          "output_type": "execute_result",
          "data": {
            "text/plain": [
              "['apple', 'banana', 'orange', 'pear']"
            ]
          },
          "metadata": {},
          "execution_count": 43
        },
        {
          "output_type": "execute_result",
          "data": {
            "text/plain": [
              "{'apple', 'banana', 'orange', 'pear'}"
            ]
          },
          "metadata": {},
          "execution_count": 43
        }
      ]
    },
    {
      "cell_type": "code",
      "source": [
        "# Demonstrate set operations on unique letters from two words\n",
        "a = set('abracadabra')\n",
        "b = set('alacazam')\n",
        "\n",
        "# Unique letters in a\n",
        "a\n",
        "\n",
        "# Unique letters in b\n",
        "b\n",
        "\n",
        "# Letters in a but not in b\n",
        "a - b\n",
        "\n",
        "# Letters in a or b or both\n",
        "a | b\n",
        "\n",
        "# Letters in both a and b\n",
        "a & b\n",
        "\n",
        "# Letters in a or b but not both\n",
        "a ^ b\n"
      ],
      "metadata": {
        "colab": {
          "base_uri": "https://localhost:8080/"
        },
        "id": "IcR_QWBsh8vu",
        "outputId": "fe402c8e-2637-41b6-ba11-c03bf5b8f9fe"
      },
      "execution_count": 44,
      "outputs": [
        {
          "output_type": "execute_result",
          "data": {
            "text/plain": [
              "{'a', 'b', 'c', 'd', 'r'}"
            ]
          },
          "metadata": {},
          "execution_count": 44
        },
        {
          "output_type": "execute_result",
          "data": {
            "text/plain": [
              "{'a', 'c', 'l', 'm', 'z'}"
            ]
          },
          "metadata": {},
          "execution_count": 44
        },
        {
          "output_type": "execute_result",
          "data": {
            "text/plain": [
              "{'b', 'd', 'r'}"
            ]
          },
          "metadata": {},
          "execution_count": 44
        },
        {
          "output_type": "execute_result",
          "data": {
            "text/plain": [
              "{'a', 'b', 'c', 'd', 'l', 'm', 'r', 'z'}"
            ]
          },
          "metadata": {},
          "execution_count": 44
        },
        {
          "output_type": "execute_result",
          "data": {
            "text/plain": [
              "{'a', 'c'}"
            ]
          },
          "metadata": {},
          "execution_count": 44
        },
        {
          "output_type": "execute_result",
          "data": {
            "text/plain": [
              "{'b', 'd', 'l', 'm', 'r', 'z'}"
            ]
          },
          "metadata": {},
          "execution_count": 44
        }
      ]
    },
    {
      "cell_type": "markdown",
      "source": [
        "Similarly to list comprehensions, set comprehensions are also supported:"
      ],
      "metadata": {
        "id": "Gvq4hJR8iJ_0"
      }
    },
    {
      "cell_type": "code",
      "source": [
        "a = {x for x in 'abracadabra' if x not in 'abc'}\n",
        "a\n",
        "# {'d', 'r'}\n"
      ],
      "metadata": {
        "colab": {
          "base_uri": "https://localhost:8080/"
        },
        "id": "YQs-DpFoiN_F",
        "outputId": "ad42f67e-ce83-4d9d-caac-1250586c119b"
      },
      "execution_count": 45,
      "outputs": [
        {
          "output_type": "execute_result",
          "data": {
            "text/plain": [
              "{'d', 'r'}"
            ]
          },
          "metadata": {},
          "execution_count": 45
        }
      ]
    },
    {
      "cell_type": "markdown",
      "source": [
        "Sets have several methods such as:"
      ],
      "metadata": {
        "id": "1-roJeBEmHzC"
      }
    },
    {
      "cell_type": "code",
      "source": [
        "a = {'d', 'r'}\n",
        "b = {'r', 'c'}\n",
        "id1 = id(a)\n",
        "\n",
        "a.intersection(b)\n",
        "# {'r'}\n",
        "\n",
        "a.difference(b)\n",
        "# {'d'}\n",
        "\n",
        "a.issubset(b)\n",
        "# False\n",
        "\n",
        "a.union(b)\n",
        "# {'c', 'd', 'r'}\n",
        "\n",
        "a.add('new')\n",
        "a\n",
        "# {'d', 'new', 'r'}\n",
        "\n",
        "a.remove('d')\n",
        "a\n",
        "# {'new', 'r'}\n",
        "\n",
        "id2 = id(a)\n",
        "\n",
        "# Sets are mutable\n",
        "id1 == id2\n",
        "# True\n"
      ],
      "metadata": {
        "colab": {
          "base_uri": "https://localhost:8080/"
        },
        "id": "6WkRwPavms90",
        "outputId": "67dde41f-a0af-4be8-8a6e-f7ef9d3e6db9"
      },
      "execution_count": 46,
      "outputs": [
        {
          "output_type": "execute_result",
          "data": {
            "text/plain": [
              "{'r'}"
            ]
          },
          "metadata": {},
          "execution_count": 46
        },
        {
          "output_type": "execute_result",
          "data": {
            "text/plain": [
              "{'d'}"
            ]
          },
          "metadata": {},
          "execution_count": 46
        },
        {
          "output_type": "execute_result",
          "data": {
            "text/plain": [
              "False"
            ]
          },
          "metadata": {},
          "execution_count": 46
        },
        {
          "output_type": "execute_result",
          "data": {
            "text/plain": [
              "{'c', 'd', 'r'}"
            ]
          },
          "metadata": {},
          "execution_count": 46
        },
        {
          "output_type": "execute_result",
          "data": {
            "text/plain": [
              "{'d', 'new', 'r'}"
            ]
          },
          "metadata": {},
          "execution_count": 46
        },
        {
          "output_type": "execute_result",
          "data": {
            "text/plain": [
              "{'new', 'r'}"
            ]
          },
          "metadata": {},
          "execution_count": 46
        },
        {
          "output_type": "execute_result",
          "data": {
            "text/plain": [
              "True"
            ]
          },
          "metadata": {},
          "execution_count": 46
        }
      ]
    },
    {
      "cell_type": "markdown",
      "source": [
        "## 5.4 Dictionaries\n",
        "\n",
        "Dictionaries are a data structure consisting of **keys** and **values**. Unlike lists and tuples that are indexed by numerical positions, dictionaries are indexed by unique and **immutable** keys (i.e., strings, numbers, or tuples). Meanwhile, dictionary values can be of any type (mutable or immutable) and may be duplicated.\n",
        "\n",
        "The primary operations on a dictionary involve storing values with specific keys and retrieving values using those keys."
      ],
      "metadata": {
        "id": "jKSBMZ66j74r"
      }
    },
    {
      "cell_type": "code",
      "source": [
        "tel = {'jack': 4098, 'sam': 4139}\n",
        "tel\n",
        "\n",
        "# Dicts are subscriptable with keys\n",
        "tel['jack']\n",
        "# 4098\n",
        "\n",
        "# We can assign a key and a value\n",
        "tel['guido'] = 4127\n",
        "tel\n",
        "# {'jack': 4098, 'sam': 4139, 'guido': 4127}\n",
        "\n",
        "# We can modify the value for an existing key\n",
        "tel['sam'] = 9341\n",
        "tel\n",
        "# {'jack': 4098, 'sam': 9341, 'guido': 4127}\n",
        "\n",
        "# List of keys\n",
        "list(tel)\n",
        "# ['jack', 'sam', 'guido']\n",
        "\n",
        "sorted(tel)\n",
        "# ['guido', 'jack', 'sam']\n",
        "\n",
        "# Membership testing\n",
        "'guido' in tel\n",
        "# True\n",
        "\n",
        "'jack' not in tel\n",
        "# False\n",
        "\n",
        "empty = {}\n",
        "type(empty)\n",
        "empty\n"
      ],
      "metadata": {
        "colab": {
          "base_uri": "https://localhost:8080/"
        },
        "id": "8kxi3RpIIGtA",
        "outputId": "0f6ee94f-afbe-4e28-aa45-379259a753a6"
      },
      "execution_count": 47,
      "outputs": [
        {
          "output_type": "execute_result",
          "data": {
            "text/plain": [
              "{'jack': 4098, 'sam': 4139}"
            ]
          },
          "metadata": {},
          "execution_count": 47
        },
        {
          "output_type": "execute_result",
          "data": {
            "text/plain": [
              "4098"
            ]
          },
          "metadata": {},
          "execution_count": 47
        },
        {
          "output_type": "execute_result",
          "data": {
            "text/plain": [
              "{'jack': 4098, 'sam': 4139, 'guido': 4127}"
            ]
          },
          "metadata": {},
          "execution_count": 47
        },
        {
          "output_type": "execute_result",
          "data": {
            "text/plain": [
              "{'jack': 4098, 'sam': 9341, 'guido': 4127}"
            ]
          },
          "metadata": {},
          "execution_count": 47
        },
        {
          "output_type": "execute_result",
          "data": {
            "text/plain": [
              "['jack', 'sam', 'guido']"
            ]
          },
          "metadata": {},
          "execution_count": 47
        },
        {
          "output_type": "execute_result",
          "data": {
            "text/plain": [
              "['guido', 'jack', 'sam']"
            ]
          },
          "metadata": {},
          "execution_count": 47
        },
        {
          "output_type": "execute_result",
          "data": {
            "text/plain": [
              "True"
            ]
          },
          "metadata": {},
          "execution_count": 47
        },
        {
          "output_type": "execute_result",
          "data": {
            "text/plain": [
              "False"
            ]
          },
          "metadata": {},
          "execution_count": 47
        },
        {
          "output_type": "execute_result",
          "data": {
            "text/plain": [
              "dict"
            ]
          },
          "metadata": {},
          "execution_count": 47
        },
        {
          "output_type": "execute_result",
          "data": {
            "text/plain": [
              "{}"
            ]
          },
          "metadata": {},
          "execution_count": 47
        }
      ]
    },
    {
      "cell_type": "code",
      "source": [
        "# The \"dict()\"\" function builds dictionaries directly from sequences of key-value pairs:\n",
        "ls_tp = [('sam', 4139), ('guido', 4127), ('jack', 4098)]\n",
        "dict(ls_tp)\n",
        "# {'sam': 4139, 'guido': 4127, 'jack': 4098}\n"
      ],
      "metadata": {
        "colab": {
          "base_uri": "https://localhost:8080/"
        },
        "id": "_xLkOQHSb9m8",
        "outputId": "1404dd69-36e9-484d-cfca-79255affa0b4"
      },
      "execution_count": 48,
      "outputs": [
        {
          "output_type": "execute_result",
          "data": {
            "text/plain": [
              "{'sam': 4139, 'guido': 4127, 'jack': 4098}"
            ]
          },
          "metadata": {},
          "execution_count": 48
        }
      ]
    },
    {
      "cell_type": "code",
      "source": [
        "# Dict comprehensions can be used to create dictionaries from arbitrary key and value expressions:\n",
        "{str(x): x**2 for x in range(1, 10)}\n",
        "# {'1': 1, '2': 4, '3': 9, '4': 16, '5': 25, '6': 36, '7': 49, '8': 64, '9': 81}\n",
        "\n",
        "# Applying \"if\":\n",
        "{str(x): x**2 for x in range(10) if x != 0}\n",
        "# {'1': 1, '2': 4, '3': 9, '4': 16, '5': 25, '6': 36, '7': 49, '8': 64, '9': 81}\n"
      ],
      "metadata": {
        "colab": {
          "base_uri": "https://localhost:8080/"
        },
        "id": "cz45HWCMc5Qw",
        "outputId": "b6b20406-ffa6-4a09-cfbc-3f66d27ee658"
      },
      "execution_count": 49,
      "outputs": [
        {
          "output_type": "execute_result",
          "data": {
            "text/plain": [
              "{'1': 1, '2': 4, '3': 9, '4': 16, '5': 25, '6': 36, '7': 49, '8': 64, '9': 81}"
            ]
          },
          "metadata": {},
          "execution_count": 49
        },
        {
          "output_type": "execute_result",
          "data": {
            "text/plain": [
              "{'1': 1, '2': 4, '3': 9, '4': 16, '5': 25, '6': 36, '7': 49, '8': 64, '9': 81}"
            ]
          },
          "metadata": {},
          "execution_count": 49
        }
      ]
    },
    {
      "cell_type": "code",
      "source": [
        "# Looping over dicts\n",
        "knights = {'gallahad': 'the pure', 'robin': 'the brave'}\n",
        "\n",
        "for i in knights:\n",
        "    print(i, knights[i])\n",
        "# gallahad the pure\n",
        "# robin the brave\n",
        "\n",
        "# The \".items()\" method returns a tuple of (key, value) for each pair\n",
        "for k, v in knights.items():\n",
        "    print(k, v)\n",
        "# gallahad the pure\n",
        "# robin the brave\n"
      ],
      "metadata": {
        "colab": {
          "base_uri": "https://localhost:8080/"
        },
        "id": "QofqTwpUe8wr",
        "outputId": "1139e467-f2af-4bdc-ac40-a1057b83abd4"
      },
      "execution_count": 50,
      "outputs": [
        {
          "output_type": "stream",
          "name": "stdout",
          "text": [
            "gallahad the pure\n",
            "robin the brave\n",
            "gallahad the pure\n",
            "robin the brave\n"
          ]
        }
      ]
    },
    {
      "cell_type": "code",
      "source": [
        "# The built-in function \"zip()\" yields tuples until an input is exhausted.\n",
        "zp_two = list(zip('abcdef', range(3)))\n",
        "# [('a', 0), ('b', 1), ('c', 2)]\n",
        "\n",
        "dict(zp_two)\n",
        "# {'a': 0, 'b': 1, 'c': 2}\n"
      ],
      "metadata": {
        "colab": {
          "base_uri": "https://localhost:8080/"
        },
        "id": "aMwQtNOUf-Yx",
        "outputId": "eb142475-05cc-4f04-aba9-ce5bcc1f03a2"
      },
      "execution_count": 51,
      "outputs": [
        {
          "output_type": "execute_result",
          "data": {
            "text/plain": [
              "{'a': 0, 'b': 1, 'c': 2}"
            ]
          },
          "metadata": {},
          "execution_count": 51
        }
      ]
    },
    {
      "cell_type": "code",
      "source": [
        "# Another example\n",
        "questions = ['name', 'quest', 'favorite color']\n",
        "answers = ['lancelot', 'the holy grail', 'blue']\n",
        "qa_dict = dict(zip(questions, answers))\n",
        "qa_dict\n",
        "# {'name': 'lancelot', 'quest': 'the holy grail', 'favorite color': 'blue'}\n",
        "\n",
        "for q, a in qa_dict.items():\n",
        "    print(f'What is your {q}?  It is {a}.')\n",
        "#What is your name?  It is lancelot.\n",
        "#What is your quest?  It is the holy grail.\n",
        "#What is your favorite color?  It is blue.\n"
      ],
      "metadata": {
        "colab": {
          "base_uri": "https://localhost:8080/"
        },
        "id": "2Gzzym-Hgr9s",
        "outputId": "0c76f248-2ae9-430e-e608-1a77f0bb1cb8"
      },
      "execution_count": 52,
      "outputs": [
        {
          "output_type": "execute_result",
          "data": {
            "text/plain": [
              "{'name': 'lancelot', 'quest': 'the holy grail', 'favorite color': 'blue'}"
            ]
          },
          "metadata": {},
          "execution_count": 52
        },
        {
          "output_type": "stream",
          "name": "stdout",
          "text": [
            "What is your name?  It is lancelot.\n",
            "What is your quest?  It is the holy grail.\n",
            "What is your favorite color?  It is blue.\n"
          ]
        }
      ]
    },
    {
      "cell_type": "code",
      "source": [
        "# Some of the methods\n",
        "list(qa_dict.keys())\n",
        "# 'name', 'quest', 'favorite color']\n",
        "\n",
        "list(qa_dict.values())\n",
        "# ['lancelot', 'the holy grail', 'blue']\n",
        "\n",
        "list(qa_dict.items())\n",
        "# [('name', 'lancelot'), ('quest', 'the holy grail'), ('favorite color', 'blue')]\n"
      ],
      "metadata": {
        "colab": {
          "base_uri": "https://localhost:8080/"
        },
        "id": "DFSSJ0I6i9mI",
        "outputId": "4bfe472b-598a-4d9e-ba9d-ab0d7f944908"
      },
      "execution_count": 53,
      "outputs": [
        {
          "output_type": "execute_result",
          "data": {
            "text/plain": [
              "['name', 'quest', 'favorite color']"
            ]
          },
          "metadata": {},
          "execution_count": 53
        },
        {
          "output_type": "execute_result",
          "data": {
            "text/plain": [
              "['lancelot', 'the holy grail', 'blue']"
            ]
          },
          "metadata": {},
          "execution_count": 53
        },
        {
          "output_type": "execute_result",
          "data": {
            "text/plain": [
              "[('name', 'lancelot'), ('quest', 'the holy grail'), ('favorite color', 'blue')]"
            ]
          },
          "metadata": {},
          "execution_count": 53
        }
      ]
    },
    {
      "cell_type": "markdown",
      "source": [
        "###📚 **Workbook practice**\n",
        "\n",
        "#### **Task:**  \n",
        "Use **lists, sets, dictionaries, and the `zip()` function** to store student grades, identify unique grades, and find the highest-scoring student.  \n",
        "\n",
        "#### **Instructions:**  \n",
        "1. Create two lists:  \n",
        "   - `students = [\"Alice\", \"Bob\", \"Charlie\", \"David\", \"Eve\"]`  \n",
        "   - `grades = [85, 90, 78, 92, 90]`  \n",
        "2. Find unique grades `unique_grades`.\n",
        "3. Find the highest grade `highest_grade`.\n",
        "4. Create a dictionary `student_grades`.  \n",
        "5. Find the highest grade and the student(s) who achieved it.  \n",
        "6. Print the dictionary, unique grades, and highest-scoring student(s).  \n",
        "\n",
        "#### **Help Code:**  \n",
        "```python\n",
        "# Define lists\n",
        "students = [\"Alice\", \"Bob\", \"Charlie\", \"David\", \"Eve\"]\n",
        "grades = [85, 90, 78, 92, 90]\n",
        "\n",
        "# Remove duplicates from grades list\n",
        "unique_grades = ...\n",
        "\n",
        "# Find the highest grade using \"max()\" funtion\n",
        "highest_grade = ...\n",
        "\n",
        "# Create the dictionary\n",
        "student_grades = ...\n",
        "\n",
        "# Find list of student(s) who got the highest grade\n",
        "top_students = ...\n",
        "\n",
        "# Print results\n",
        "print(\"Student Grades Dictionary:\", student_grades)\n",
        "print(\"Unique Grades Set:\", unique_grades)\n",
        "print(\"Highest Grade:\", highest_grade)\n",
        "print(\"Top Student(s):\", top_students)\n",
        "```\n",
        "\n",
        "#### **Expected Output:**  \n",
        "```\n",
        "Student Grades Dictionary: {'Alice': 85, 'Bob': 90, 'Charlie': 78, 'David': 92, 'Eve': 90}  \n",
        "Unique Grades Set: {85, 90, 78, 92}  \n",
        "Highest Grade: 92  \n",
        "Top Student(s): ['David']\n",
        "```\n"
      ],
      "metadata": {
        "id": "f_cwKtpKkfX6"
      }
    },
    {
      "cell_type": "markdown",
      "source": [
        "# 6. Modules\n",
        "If you quit from the Python interpreter and enter it again, the definitions you have made (functions and variables) are lost. Therefore, if you want to write a somewhat longer program, you are better off using a text editor (like IDEs such as VS Code or terminal text editors like Emacs, Nano, or Vim) to prepare the input for the interpreter and running it with that file as input instead. This is known as creating a *script*.\n",
        "\n",
        "As your program gets longer, you may want to split it into several files for easier maintenance. You may also want to use a handy function that you've written in several programs without copying its definition into each program.\n",
        "\n",
        "To support this, Python has a way to put definitions in a file and use them in a script or in an interactive instance of the interpreter. Such a file is called a **module**; definitions from a module can be imported into other modules or into the main module.\n",
        "\n",
        "A module is a file containing Python definitions and statements. The file name is the module name with the suffix `.py` appended.\n",
        "\n",
        "For instance, use your favorite text editor to create a file called `fibonacci.py` in the current directory with the following contents:\n",
        "\n",
        "```python\n",
        "# Fibonacci numbers module\n",
        "\n",
        "def fib(n):    # write Fibonacci series up to n\n",
        "    a, b = 0, 1\n",
        "    while a < n:\n",
        "        print(a, end=' ')\n",
        "        a, b = b, a+b\n",
        "    print()\n",
        "\n",
        "def fib2(n):   # return Fibonacci series up to n\n",
        "    result = []\n",
        "    a, b = 0, 1\n",
        "    while a < n:\n",
        "        result.append(a)\n",
        "        a, b = b, a+b\n",
        "    return result\n",
        "\n",
        "# Executing modules as scripts\n",
        "if __name__ == \"__main__\":\n",
        "    # This only runs if we run the script\n",
        "    import sys\n",
        "    fib(int(sys.argv[1]))\n",
        "```"
      ],
      "metadata": {
        "id": "87yLHnu6rip_"
      }
    },
    {
      "cell_type": "markdown",
      "source": [
        "Now enter the Python interpreter and import this module with the following command:"
      ],
      "metadata": {
        "id": "T9ZxOfZNxWxt"
      }
    },
    {
      "cell_type": "code",
      "source": [
        "import fibonacci as fibo\n",
        "\n",
        "fibo.fib(100)\n",
        "# 0 1 1 2 3 5 8 13 21 34 55 89\n",
        "\n",
        "fibo.fib2(100)\n",
        "# [0, 1, 1, 2, 3, 5, 8, 13, 21, 34, 55, 89]\n",
        "\n",
        "fibo.__name__\n",
        "# 'fibonacci'\n"
      ],
      "metadata": {
        "colab": {
          "base_uri": "https://localhost:8080/",
          "height": 89
        },
        "id": "stnocQ8NxYEk",
        "outputId": "1ba48645-b31a-4b14-ebc1-ce45cad69dc6"
      },
      "execution_count": 55,
      "outputs": [
        {
          "output_type": "stream",
          "name": "stdout",
          "text": [
            "0 1 1 2 3 5 8 13 21 34 55 89 \n"
          ]
        },
        {
          "output_type": "execute_result",
          "data": {
            "text/plain": [
              "[0, 1, 1, 2, 3, 5, 8, 13, 21, 34, 55, 89]"
            ]
          },
          "metadata": {},
          "execution_count": 55
        },
        {
          "output_type": "execute_result",
          "data": {
            "text/plain": [
              "'fibonacci'"
            ],
            "application/vnd.google.colaboratory.intrinsic+json": {
              "type": "string"
            }
          },
          "metadata": {},
          "execution_count": 55
        }
      ]
    },
    {
      "cell_type": "code",
      "source": [
        "# We can import a certain function from a module\n",
        "from fibonacci import fib2\n",
        "\n",
        "fib2(100)\n",
        "\n",
        "# Or we can also import all (*)\n",
        "from fibonacci import *\n",
        "\n",
        "fib(100)\n"
      ],
      "metadata": {
        "colab": {
          "base_uri": "https://localhost:8080/"
        },
        "id": "ddGDB69d0mMC",
        "outputId": "83034d36-507c-4a11-c369-d837ec42e559"
      },
      "execution_count": 56,
      "outputs": [
        {
          "output_type": "execute_result",
          "data": {
            "text/plain": [
              "[0, 1, 1, 2, 3, 5, 8, 13, 21, 34, 55, 89]"
            ]
          },
          "metadata": {},
          "execution_count": 56
        },
        {
          "output_type": "stream",
          "name": "stdout",
          "text": [
            "0 1 1 2 3 5 8 13 21 34 55 89 \n"
          ]
        }
      ]
    },
    {
      "cell_type": "markdown",
      "source": [
        "You can run the script via command line as well, because the code that parses the command line only runs if the module that is executed as the **“main”** file:"
      ],
      "metadata": {
        "id": "yOmUWTnBx5rK"
      }
    },
    {
      "cell_type": "code",
      "source": [
        "!python fibonacci.py 100"
      ],
      "metadata": {
        "colab": {
          "base_uri": "https://localhost:8080/"
        },
        "id": "Z7rbp06Ixxnc",
        "outputId": "3cb7fcf1-8812-459d-8dc0-a8f441f97ece"
      },
      "execution_count": 57,
      "outputs": [
        {
          "output_type": "stream",
          "name": "stdout",
          "text": [
            "0 1 1 2 3 5 8 13 21 34 55 89 \n"
          ]
        }
      ]
    },
    {
      "cell_type": "markdown",
      "source": [
        "### 🎉 🚀🔥 Awesome! We built an application that works great!"
      ],
      "metadata": {
        "id": "ISEDrbs51smw"
      }
    },
    {
      "cell_type": "markdown",
      "source": [
        "## 6.1  Standard Modules\n",
        "\n",
        "Python comes with a comprehensive library of **standard modules** that provide built-in functionality for various tasks, such as file handling, mathematical operations, data manipulation, and system interactions. These modules can be imported and used directly without requiring additional installation. You can explore the full list of standard modules in the official Python documentation [here](https://docs.python.org/3/library/index.html). Additionally, I have compiled a summary of some commonly used modules with explanations and examples, which you can find [here](https://ashki23.github.io/python-lib.html).\n",
        "\n",
        "## 6.2 Packages\n",
        "In addition to the standard library, Python allows us to extend its functionality by installing numerous third-party packages.\n",
        "\n",
        "These packages enhance Python's capabilities across various domains, from data analysis to machine learning and visualization. Some of the most widely used Python packages include:  \n",
        "\n",
        "- **Pandas**: A powerful library for working with tabular data (DataFrame), commonly used for handling data from spreadsheets or databases.  \n",
        "- **NumPy**: A fundamental package for numerical computing, providing support for N-dimensional arrays and linear algebra operations.  \n",
        "- **Scikit-Learn**: A robust machine learning library offering a wide range of tools for classification, regression, clustering, and more.  \n",
        "- **Matplotlib**: A versatile library for creating high-quality 2D plots and visualizations.  \n",
        "- **TensorFlow**: An advanced library for fast numerical computing, widely used for deep learning and artificial intelligence applications.  \n",
        "\n",
        "🔥🔥 **Note: Since these are not part of the standard library, they need to be installed using a package manager like `pip`. When your project requires external packages, it’s best practice to use a [virtual environment](https://github.com/ashki23/python-workshop-basics#packages) or a container to manage dependencies efficiently.**\n",
        "\n",
        "For example, to install `cartopy` package, we can use the following `pip install` command in the terminal (since Colab provides a Virtual Machine (VM) for running our codes, there's no need to create a virtual environment):\n",
        "\n",
        "```bash\n",
        "!pip install cartopy\n",
        "```\n",
        "\n",
        "🔥 In Jupyter Notebook, you can execute terminal commands by adding `!` to your command."
      ],
      "metadata": {
        "id": "QyvZBzKi4qmM"
      }
    },
    {
      "cell_type": "markdown",
      "source": [
        "# 7. Input and Output\n",
        "\n",
        "## 7.1 Formatted String\n",
        "\n",
        "Formatted string literals (also called `f-strings` for short) let you include the value of Python expressions inside a string by prefixing the string with `f` or `F` and writing expressions as `{expression}`.\n"
      ],
      "metadata": {
        "id": "zUgjCF79-k_c"
      }
    },
    {
      "cell_type": "code",
      "source": [
        "import math\n",
        "\n",
        "print(f'The value of pi is approximately {round(math.pi, 2)}.')\n",
        "\n",
        "# VS.\n",
        "print('The value of pi is approximately', round(math.pi, 2), '.')"
      ],
      "metadata": {
        "colab": {
          "base_uri": "https://localhost:8080/"
        },
        "id": "nhQcDqJY_VTz",
        "outputId": "eb9d9173-44e0-428f-fb5a-4cebe289ba74"
      },
      "execution_count": 58,
      "outputs": [
        {
          "output_type": "stream",
          "name": "stdout",
          "text": [
            "The value of pi is approximately 3.14.\n",
            "The value of pi is approximately 3.14 .\n"
          ]
        }
      ]
    },
    {
      "cell_type": "markdown",
      "source": [
        "## 7.2 Reading and Writing\n",
        "\n",
        "First, let's write a text output from a list of strings:"
      ],
      "metadata": {
        "id": "Rr8qGpQh_UoI"
      }
    },
    {
      "cell_type": "code",
      "source": [
        "f = ['This is the first line of the file.',\n",
        "     'Second line of the file',\n",
        "     'Third line of the file']\n",
        "\n",
        "for line in f:\n",
        "    print(line)"
      ],
      "metadata": {
        "colab": {
          "base_uri": "https://localhost:8080/"
        },
        "id": "taQvhO5FA4Ek",
        "outputId": "96fcd1b8-15a3-429f-8364-2457c4a9a8dd"
      },
      "execution_count": 59,
      "outputs": [
        {
          "output_type": "stream",
          "name": "stdout",
          "text": [
            "This is the first line of the file.\n",
            "Second line of the file\n",
            "Third line of the file\n"
          ]
        }
      ]
    },
    {
      "cell_type": "code",
      "source": [
        "with open('output.txt', 'w') as file:\n",
        "    for line in f:\n",
        "        file.write(line + '\\n')  # Adding newline after each line\n"
      ],
      "metadata": {
        "colab": {
          "base_uri": "https://localhost:8080/"
        },
        "id": "79XNxsK0BJCH",
        "outputId": "3a80ee6a-bb17-4eec-fb69-dd91284f873c"
      },
      "execution_count": 60,
      "outputs": [
        {
          "output_type": "execute_result",
          "data": {
            "text/plain": [
              "36"
            ]
          },
          "metadata": {},
          "execution_count": 60
        },
        {
          "output_type": "execute_result",
          "data": {
            "text/plain": [
              "24"
            ]
          },
          "metadata": {},
          "execution_count": 60
        },
        {
          "output_type": "execute_result",
          "data": {
            "text/plain": [
              "23"
            ]
          },
          "metadata": {},
          "execution_count": 60
        }
      ]
    },
    {
      "cell_type": "markdown",
      "source": [
        "The above code just created a text file named `output.txt` in the current directory.\n",
        "\n",
        "Now, let's read `output.txt`:"
      ],
      "metadata": {
        "id": "kifE0ctECXqF"
      }
    },
    {
      "cell_type": "code",
      "source": [
        "with open('output.txt', 'r') as file:\n",
        "    #type(file)\n",
        "    print(file.read())\n"
      ],
      "metadata": {
        "colab": {
          "base_uri": "https://localhost:8080/"
        },
        "id": "CAmgPnaVCp6w",
        "outputId": "2d4a5c78-cb63-4ff1-e782-db60f718b3f2"
      },
      "execution_count": 61,
      "outputs": [
        {
          "output_type": "stream",
          "name": "stdout",
          "text": [
            "This is the first line of the file.\n",
            "Second line of the file\n",
            "Third line of the file\n",
            "\n"
          ]
        }
      ]
    },
    {
      "cell_type": "code",
      "source": [
        "# We can use \".readlines()\" method to read the file and store it in a list\n",
        "with open('output.txt', 'r') as file:\n",
        "    f_read = file.readlines()\n",
        "\n",
        "f_read\n",
        "\n",
        "# We can use \".strip()\" method to remove the newline ending (\\n)\n",
        "f_read_strip = [x.strip() for x in f_read]\n",
        "f_read_strip"
      ],
      "metadata": {
        "colab": {
          "base_uri": "https://localhost:8080/"
        },
        "id": "zFqBhFEsIVRo",
        "outputId": "205d8428-656f-4dd0-a365-ab6af4239e5f"
      },
      "execution_count": 62,
      "outputs": [
        {
          "output_type": "execute_result",
          "data": {
            "text/plain": [
              "['This is the first line of the file.\\n',\n",
              " 'Second line of the file\\n',\n",
              " 'Third line of the file\\n']"
            ]
          },
          "metadata": {},
          "execution_count": 62
        },
        {
          "output_type": "execute_result",
          "data": {
            "text/plain": [
              "['This is the first line of the file.',\n",
              " 'Second line of the file',\n",
              " 'Third line of the file']"
            ]
          },
          "metadata": {},
          "execution_count": 62
        }
      ]
    },
    {
      "cell_type": "code",
      "source": [
        "# The TextIO object can is iterable so we can use listcomp too\n",
        "with open('output.txt', 'r') as file:\n",
        "    f_read = [line.strip() for line in file]\n",
        "\n",
        "f_read_strip == f_read == f\n",
        "f_read"
      ],
      "metadata": {
        "colab": {
          "base_uri": "https://localhost:8080/"
        },
        "id": "uH59pX-fJxlc",
        "outputId": "6d92e178-8f50-4593-c5f7-54e6ef944d04"
      },
      "execution_count": 63,
      "outputs": [
        {
          "output_type": "execute_result",
          "data": {
            "text/plain": [
              "True"
            ]
          },
          "metadata": {},
          "execution_count": 63
        },
        {
          "output_type": "execute_result",
          "data": {
            "text/plain": [
              "['This is the first line of the file.',\n",
              " 'Second line of the file',\n",
              " 'Third line of the file']"
            ]
          },
          "metadata": {},
          "execution_count": 63
        }
      ]
    },
    {
      "cell_type": "markdown",
      "source": [
        "🚀 Python provides built-in libraries for handling common data formats such as CSV, JSON, and SQL. The `csv` module allows reading and writing CSV files, the `json` module handles JSON data, and the `sqlite3` module provides an interface for working with SQL databases. However, for more specialized data formats like Excel, Parquet, or HDF5, you may need to install additional packages such as `pandas`, `openpyxl`, `pyarrow`, or `h5py`. These libraries extend Python’s capabilities, enabling seamless data processing across various formats."
      ],
      "metadata": {
        "id": "H2JxafLqFdeI"
      }
    }
  ]
}